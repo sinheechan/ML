{
  "nbformat": 4,
  "nbformat_minor": 0,
  "metadata": {
    "colab": {
      "provenance": [],
      "authorship_tag": "ABX9TyOiPbteN8OZOgsfnywPLVtN",
      "include_colab_link": true
    },
    "kernelspec": {
      "name": "python3",
      "display_name": "Python 3"
    },
    "language_info": {
      "name": "python"
    }
  },
  "cells": [
    {
      "cell_type": "markdown",
      "metadata": {
        "id": "view-in-github",
        "colab_type": "text"
      },
      "source": [
        "<a href=\"https://colab.research.google.com/github/sinheechan/ML/blob/main/%EC%95%99%EC%83%81%EB%B8%94%ED%95%99%EC%8A%B5_%EB%9E%9C%EB%8D%A4%ED%8F%AC%EB%A0%88%EC%8A%A4%ED%8A%B8_GBM.ipynb\" target=\"_parent\"><img src=\"https://colab.research.google.com/assets/colab-badge.svg\" alt=\"Open In Colab\"/></a>"
      ]
    },
    {
      "cell_type": "markdown",
      "source": [
        "## 1. 초기 세팅"
      ],
      "metadata": {
        "id": "xMCuAD2HFDCK"
      }
    },
    {
      "cell_type": "code",
      "execution_count": 36,
      "metadata": {
        "id": "7ptZtLeUE6bv"
      },
      "outputs": [],
      "source": [
        "import pandas as pd\n",
        "import matplotlib.pyplot as plt\n",
        "import seaborn as sns\n",
        "\n",
        "from sklearn.ensemble import VotingClassifier\n",
        "from sklearn.linear_model import LogisticRegression\n",
        "from sklearn.neighbors import KNeighborsClassifier\n",
        "from sklearn.datasets import load_breast_cancer\n",
        "from sklearn.model_selection import train_test_split\n",
        "from sklearn.metrics import accuracy_score\n",
        "from sklearn.ensemble import RandomForestClassifier\n",
        "\n",
        "colors = sns.color_palette('husl')"
      ]
    },
    {
      "cell_type": "markdown",
      "source": [
        "## 2. 데이터 불러오기"
      ],
      "metadata": {
        "id": "ubtI7-gZFG1q"
      }
    },
    {
      "cell_type": "code",
      "source": [
        "!wget https://archive.ics.uci.edu/static/public/240/human+activity+recognition+using+smartphones.zip\n",
        "\n",
        "!unzip human+activity+recognition+using+smartphones.zip\n",
        "!unzip UCI\\ HAR\\ Dataset.zip"
      ],
      "metadata": {
        "id": "5TdJamP8FBo0"
      },
      "execution_count": null,
      "outputs": []
    },
    {
      "cell_type": "markdown",
      "source": [
        "## 3. EDA"
      ],
      "metadata": {
        "id": "VGBsYPGlFNd0"
      }
    },
    {
      "cell_type": "markdown",
      "source": [
        "### 3.1 데이터셋 가공하기"
      ],
      "metadata": {
        "id": "7RPmQViyFYWW"
      }
    },
    {
      "cell_type": "markdown",
      "source": [
        "- 가장 먼저, features.txt를 불러와 피처의 갯수와 값을 살펴본다.\n",
        "- feature.txt 파일에는 피처 이름 index와 피처명이 공백으로 분리되어져 있으므로  이를 DataFrame으로 로드한다."
      ],
      "metadata": {
        "id": "hu4hRPxnFddA"
      }
    },
    {
      "cell_type": "code",
      "source": [
        "feature_name_df = pd.read_csv(\"/content/UCI HAR Dataset/features.txt\", sep = '\\s+',\n",
        "                              header = None, names = ['column_index', 'column_name'])\n",
        "\n",
        "feature_name_df.head()"
      ],
      "metadata": {
        "colab": {
          "base_uri": "https://localhost:8080/",
          "height": 206
        },
        "id": "R9prozopFM-Q",
        "outputId": "3b485633-7394-49ff-a420-c00e080ac4a9"
      },
      "execution_count": 4,
      "outputs": [
        {
          "output_type": "execute_result",
          "data": {
            "text/plain": [
              "   column_index        column_name\n",
              "0             1  tBodyAcc-mean()-X\n",
              "1             2  tBodyAcc-mean()-Y\n",
              "2             3  tBodyAcc-mean()-Z\n",
              "3             4   tBodyAcc-std()-X\n",
              "4             5   tBodyAcc-std()-Y"
            ],
            "text/html": [
              "\n",
              "  <div id=\"df-3f845857-efc8-4bc5-9455-323dffac548c\" class=\"colab-df-container\">\n",
              "    <div>\n",
              "<style scoped>\n",
              "    .dataframe tbody tr th:only-of-type {\n",
              "        vertical-align: middle;\n",
              "    }\n",
              "\n",
              "    .dataframe tbody tr th {\n",
              "        vertical-align: top;\n",
              "    }\n",
              "\n",
              "    .dataframe thead th {\n",
              "        text-align: right;\n",
              "    }\n",
              "</style>\n",
              "<table border=\"1\" class=\"dataframe\">\n",
              "  <thead>\n",
              "    <tr style=\"text-align: right;\">\n",
              "      <th></th>\n",
              "      <th>column_index</th>\n",
              "      <th>column_name</th>\n",
              "    </tr>\n",
              "  </thead>\n",
              "  <tbody>\n",
              "    <tr>\n",
              "      <th>0</th>\n",
              "      <td>1</td>\n",
              "      <td>tBodyAcc-mean()-X</td>\n",
              "    </tr>\n",
              "    <tr>\n",
              "      <th>1</th>\n",
              "      <td>2</td>\n",
              "      <td>tBodyAcc-mean()-Y</td>\n",
              "    </tr>\n",
              "    <tr>\n",
              "      <th>2</th>\n",
              "      <td>3</td>\n",
              "      <td>tBodyAcc-mean()-Z</td>\n",
              "    </tr>\n",
              "    <tr>\n",
              "      <th>3</th>\n",
              "      <td>4</td>\n",
              "      <td>tBodyAcc-std()-X</td>\n",
              "    </tr>\n",
              "    <tr>\n",
              "      <th>4</th>\n",
              "      <td>5</td>\n",
              "      <td>tBodyAcc-std()-Y</td>\n",
              "    </tr>\n",
              "  </tbody>\n",
              "</table>\n",
              "</div>\n",
              "    <div class=\"colab-df-buttons\">\n",
              "\n",
              "  <div class=\"colab-df-container\">\n",
              "    <button class=\"colab-df-convert\" onclick=\"convertToInteractive('df-3f845857-efc8-4bc5-9455-323dffac548c')\"\n",
              "            title=\"Convert this dataframe to an interactive table.\"\n",
              "            style=\"display:none;\">\n",
              "\n",
              "  <svg xmlns=\"http://www.w3.org/2000/svg\" height=\"24px\" viewBox=\"0 -960 960 960\">\n",
              "    <path d=\"M120-120v-720h720v720H120Zm60-500h600v-160H180v160Zm220 220h160v-160H400v160Zm0 220h160v-160H400v160ZM180-400h160v-160H180v160Zm440 0h160v-160H620v160ZM180-180h160v-160H180v160Zm440 0h160v-160H620v160Z\"/>\n",
              "  </svg>\n",
              "    </button>\n",
              "\n",
              "  <style>\n",
              "    .colab-df-container {\n",
              "      display:flex;\n",
              "      gap: 12px;\n",
              "    }\n",
              "\n",
              "    .colab-df-convert {\n",
              "      background-color: #E8F0FE;\n",
              "      border: none;\n",
              "      border-radius: 50%;\n",
              "      cursor: pointer;\n",
              "      display: none;\n",
              "      fill: #1967D2;\n",
              "      height: 32px;\n",
              "      padding: 0 0 0 0;\n",
              "      width: 32px;\n",
              "    }\n",
              "\n",
              "    .colab-df-convert:hover {\n",
              "      background-color: #E2EBFA;\n",
              "      box-shadow: 0px 1px 2px rgba(60, 64, 67, 0.3), 0px 1px 3px 1px rgba(60, 64, 67, 0.15);\n",
              "      fill: #174EA6;\n",
              "    }\n",
              "\n",
              "    .colab-df-buttons div {\n",
              "      margin-bottom: 4px;\n",
              "    }\n",
              "\n",
              "    [theme=dark] .colab-df-convert {\n",
              "      background-color: #3B4455;\n",
              "      fill: #D2E3FC;\n",
              "    }\n",
              "\n",
              "    [theme=dark] .colab-df-convert:hover {\n",
              "      background-color: #434B5C;\n",
              "      box-shadow: 0px 1px 3px 1px rgba(0, 0, 0, 0.15);\n",
              "      filter: drop-shadow(0px 1px 2px rgba(0, 0, 0, 0.3));\n",
              "      fill: #FFFFFF;\n",
              "    }\n",
              "  </style>\n",
              "\n",
              "    <script>\n",
              "      const buttonEl =\n",
              "        document.querySelector('#df-3f845857-efc8-4bc5-9455-323dffac548c button.colab-df-convert');\n",
              "      buttonEl.style.display =\n",
              "        google.colab.kernel.accessAllowed ? 'block' : 'none';\n",
              "\n",
              "      async function convertToInteractive(key) {\n",
              "        const element = document.querySelector('#df-3f845857-efc8-4bc5-9455-323dffac548c');\n",
              "        const dataTable =\n",
              "          await google.colab.kernel.invokeFunction('convertToInteractive',\n",
              "                                                    [key], {});\n",
              "        if (!dataTable) return;\n",
              "\n",
              "        const docLinkHtml = 'Like what you see? Visit the ' +\n",
              "          '<a target=\"_blank\" href=https://colab.research.google.com/notebooks/data_table.ipynb>data table notebook</a>'\n",
              "          + ' to learn more about interactive tables.';\n",
              "        element.innerHTML = '';\n",
              "        dataTable['output_type'] = 'display_data';\n",
              "        await google.colab.output.renderOutput(dataTable, element);\n",
              "        const docLink = document.createElement('div');\n",
              "        docLink.innerHTML = docLinkHtml;\n",
              "        element.appendChild(docLink);\n",
              "      }\n",
              "    </script>\n",
              "  </div>\n",
              "\n",
              "\n",
              "<div id=\"df-5db93dd5-4f49-477c-968d-2be5f2538ca9\">\n",
              "  <button class=\"colab-df-quickchart\" onclick=\"quickchart('df-5db93dd5-4f49-477c-968d-2be5f2538ca9')\"\n",
              "            title=\"Suggest charts\"\n",
              "            style=\"display:none;\">\n",
              "\n",
              "<svg xmlns=\"http://www.w3.org/2000/svg\" height=\"24px\"viewBox=\"0 0 24 24\"\n",
              "     width=\"24px\">\n",
              "    <g>\n",
              "        <path d=\"M19 3H5c-1.1 0-2 .9-2 2v14c0 1.1.9 2 2 2h14c1.1 0 2-.9 2-2V5c0-1.1-.9-2-2-2zM9 17H7v-7h2v7zm4 0h-2V7h2v10zm4 0h-2v-4h2v4z\"/>\n",
              "    </g>\n",
              "</svg>\n",
              "  </button>\n",
              "\n",
              "<style>\n",
              "  .colab-df-quickchart {\n",
              "      --bg-color: #E8F0FE;\n",
              "      --fill-color: #1967D2;\n",
              "      --hover-bg-color: #E2EBFA;\n",
              "      --hover-fill-color: #174EA6;\n",
              "      --disabled-fill-color: #AAA;\n",
              "      --disabled-bg-color: #DDD;\n",
              "  }\n",
              "\n",
              "  [theme=dark] .colab-df-quickchart {\n",
              "      --bg-color: #3B4455;\n",
              "      --fill-color: #D2E3FC;\n",
              "      --hover-bg-color: #434B5C;\n",
              "      --hover-fill-color: #FFFFFF;\n",
              "      --disabled-bg-color: #3B4455;\n",
              "      --disabled-fill-color: #666;\n",
              "  }\n",
              "\n",
              "  .colab-df-quickchart {\n",
              "    background-color: var(--bg-color);\n",
              "    border: none;\n",
              "    border-radius: 50%;\n",
              "    cursor: pointer;\n",
              "    display: none;\n",
              "    fill: var(--fill-color);\n",
              "    height: 32px;\n",
              "    padding: 0;\n",
              "    width: 32px;\n",
              "  }\n",
              "\n",
              "  .colab-df-quickchart:hover {\n",
              "    background-color: var(--hover-bg-color);\n",
              "    box-shadow: 0 1px 2px rgba(60, 64, 67, 0.3), 0 1px 3px 1px rgba(60, 64, 67, 0.15);\n",
              "    fill: var(--button-hover-fill-color);\n",
              "  }\n",
              "\n",
              "  .colab-df-quickchart-complete:disabled,\n",
              "  .colab-df-quickchart-complete:disabled:hover {\n",
              "    background-color: var(--disabled-bg-color);\n",
              "    fill: var(--disabled-fill-color);\n",
              "    box-shadow: none;\n",
              "  }\n",
              "\n",
              "  .colab-df-spinner {\n",
              "    border: 2px solid var(--fill-color);\n",
              "    border-color: transparent;\n",
              "    border-bottom-color: var(--fill-color);\n",
              "    animation:\n",
              "      spin 1s steps(1) infinite;\n",
              "  }\n",
              "\n",
              "  @keyframes spin {\n",
              "    0% {\n",
              "      border-color: transparent;\n",
              "      border-bottom-color: var(--fill-color);\n",
              "      border-left-color: var(--fill-color);\n",
              "    }\n",
              "    20% {\n",
              "      border-color: transparent;\n",
              "      border-left-color: var(--fill-color);\n",
              "      border-top-color: var(--fill-color);\n",
              "    }\n",
              "    30% {\n",
              "      border-color: transparent;\n",
              "      border-left-color: var(--fill-color);\n",
              "      border-top-color: var(--fill-color);\n",
              "      border-right-color: var(--fill-color);\n",
              "    }\n",
              "    40% {\n",
              "      border-color: transparent;\n",
              "      border-right-color: var(--fill-color);\n",
              "      border-top-color: var(--fill-color);\n",
              "    }\n",
              "    60% {\n",
              "      border-color: transparent;\n",
              "      border-right-color: var(--fill-color);\n",
              "    }\n",
              "    80% {\n",
              "      border-color: transparent;\n",
              "      border-right-color: var(--fill-color);\n",
              "      border-bottom-color: var(--fill-color);\n",
              "    }\n",
              "    90% {\n",
              "      border-color: transparent;\n",
              "      border-bottom-color: var(--fill-color);\n",
              "    }\n",
              "  }\n",
              "</style>\n",
              "\n",
              "  <script>\n",
              "    async function quickchart(key) {\n",
              "      const quickchartButtonEl =\n",
              "        document.querySelector('#' + key + ' button');\n",
              "      quickchartButtonEl.disabled = true;  // To prevent multiple clicks.\n",
              "      quickchartButtonEl.classList.add('colab-df-spinner');\n",
              "      try {\n",
              "        const charts = await google.colab.kernel.invokeFunction(\n",
              "            'suggestCharts', [key], {});\n",
              "      } catch (error) {\n",
              "        console.error('Error during call to suggestCharts:', error);\n",
              "      }\n",
              "      quickchartButtonEl.classList.remove('colab-df-spinner');\n",
              "      quickchartButtonEl.classList.add('colab-df-quickchart-complete');\n",
              "    }\n",
              "    (() => {\n",
              "      let quickchartButtonEl =\n",
              "        document.querySelector('#df-5db93dd5-4f49-477c-968d-2be5f2538ca9 button');\n",
              "      quickchartButtonEl.style.display =\n",
              "        google.colab.kernel.accessAllowed ? 'block' : 'none';\n",
              "    })();\n",
              "  </script>\n",
              "</div>\n",
              "\n",
              "    </div>\n",
              "  </div>\n"
            ]
          },
          "metadata": {},
          "execution_count": 4
        }
      ]
    },
    {
      "cell_type": "markdown",
      "source": [
        "- 피처명 index를 제거하고, 피처명만 리스트 객체로 생성한 뒤 샘플로 10개만 추출한다."
      ],
      "metadata": {
        "id": "7mSGRD5JF08A"
      }
    },
    {
      "cell_type": "code",
      "source": [
        "feature_name = feature_name_df.iloc[:,1].values.tolist()\n",
        "print('전체 피처명에서 10개만 추출:', feature_name[:10])"
      ],
      "metadata": {
        "colab": {
          "base_uri": "https://localhost:8080/"
        },
        "id": "x3RAhjQ1F4VK",
        "outputId": "b3ab28c5-eae6-43b4-af93-3d1bf16ee5dd"
      },
      "execution_count": 5,
      "outputs": [
        {
          "output_type": "stream",
          "name": "stdout",
          "text": [
            "전체 피처명에서 10개만 추출: ['tBodyAcc-mean()-X', 'tBodyAcc-mean()-Y', 'tBodyAcc-mean()-Z', 'tBodyAcc-std()-X', 'tBodyAcc-std()-Y', 'tBodyAcc-std()-Z', 'tBodyAcc-mad()-X', 'tBodyAcc-mad()-Y', 'tBodyAcc-mad()-Z', 'tBodyAcc-max()-X']\n"
          ]
        }
      ]
    },
    {
      "cell_type": "markdown",
      "source": [
        "- 피처명을 보았을 때 움직임과 관련된 속성의 평균, 표준편차가 x,y,z축 값으로 되어 있음을 유추할 수 있다.\n",
        "- 이를 데이터 프레임으로 변환하기 전에, 중복된 피처명에 대해서 구분지어주어야 한다."
      ],
      "metadata": {
        "id": "gcEtJ3dGGCCL"
      }
    },
    {
      "cell_type": "code",
      "source": [
        "# 중복된 피처명이 있는지 알아보기\n",
        "\n",
        "feature_dup_df = feature_name_df.groupby('column_name').count()\n",
        "print(feature_dup_df[feature_dup_df['column_index']>1].count())\n",
        "feature_dup_df[feature_dup_df['column_index']>1].head()"
      ],
      "metadata": {
        "colab": {
          "base_uri": "https://localhost:8080/",
          "height": 274
        },
        "id": "QzdkDfdzGFUG",
        "outputId": "c797dacb-6fd6-4aa2-f681-fb6df0c6e4ae"
      },
      "execution_count": 6,
      "outputs": [
        {
          "output_type": "stream",
          "name": "stdout",
          "text": [
            "column_index    42\n",
            "dtype: int64\n"
          ]
        },
        {
          "output_type": "execute_result",
          "data": {
            "text/plain": [
              "                              column_index\n",
              "column_name                               \n",
              "fBodyAcc-bandsEnergy()-1,16              3\n",
              "fBodyAcc-bandsEnergy()-1,24              3\n",
              "fBodyAcc-bandsEnergy()-1,8               3\n",
              "fBodyAcc-bandsEnergy()-17,24             3\n",
              "fBodyAcc-bandsEnergy()-17,32             3"
            ],
            "text/html": [
              "\n",
              "  <div id=\"df-dca204e7-4cf5-41cd-82f2-278eb6ad0b6c\" class=\"colab-df-container\">\n",
              "    <div>\n",
              "<style scoped>\n",
              "    .dataframe tbody tr th:only-of-type {\n",
              "        vertical-align: middle;\n",
              "    }\n",
              "\n",
              "    .dataframe tbody tr th {\n",
              "        vertical-align: top;\n",
              "    }\n",
              "\n",
              "    .dataframe thead th {\n",
              "        text-align: right;\n",
              "    }\n",
              "</style>\n",
              "<table border=\"1\" class=\"dataframe\">\n",
              "  <thead>\n",
              "    <tr style=\"text-align: right;\">\n",
              "      <th></th>\n",
              "      <th>column_index</th>\n",
              "    </tr>\n",
              "    <tr>\n",
              "      <th>column_name</th>\n",
              "      <th></th>\n",
              "    </tr>\n",
              "  </thead>\n",
              "  <tbody>\n",
              "    <tr>\n",
              "      <th>fBodyAcc-bandsEnergy()-1,16</th>\n",
              "      <td>3</td>\n",
              "    </tr>\n",
              "    <tr>\n",
              "      <th>fBodyAcc-bandsEnergy()-1,24</th>\n",
              "      <td>3</td>\n",
              "    </tr>\n",
              "    <tr>\n",
              "      <th>fBodyAcc-bandsEnergy()-1,8</th>\n",
              "      <td>3</td>\n",
              "    </tr>\n",
              "    <tr>\n",
              "      <th>fBodyAcc-bandsEnergy()-17,24</th>\n",
              "      <td>3</td>\n",
              "    </tr>\n",
              "    <tr>\n",
              "      <th>fBodyAcc-bandsEnergy()-17,32</th>\n",
              "      <td>3</td>\n",
              "    </tr>\n",
              "  </tbody>\n",
              "</table>\n",
              "</div>\n",
              "    <div class=\"colab-df-buttons\">\n",
              "\n",
              "  <div class=\"colab-df-container\">\n",
              "    <button class=\"colab-df-convert\" onclick=\"convertToInteractive('df-dca204e7-4cf5-41cd-82f2-278eb6ad0b6c')\"\n",
              "            title=\"Convert this dataframe to an interactive table.\"\n",
              "            style=\"display:none;\">\n",
              "\n",
              "  <svg xmlns=\"http://www.w3.org/2000/svg\" height=\"24px\" viewBox=\"0 -960 960 960\">\n",
              "    <path d=\"M120-120v-720h720v720H120Zm60-500h600v-160H180v160Zm220 220h160v-160H400v160Zm0 220h160v-160H400v160ZM180-400h160v-160H180v160Zm440 0h160v-160H620v160ZM180-180h160v-160H180v160Zm440 0h160v-160H620v160Z\"/>\n",
              "  </svg>\n",
              "    </button>\n",
              "\n",
              "  <style>\n",
              "    .colab-df-container {\n",
              "      display:flex;\n",
              "      gap: 12px;\n",
              "    }\n",
              "\n",
              "    .colab-df-convert {\n",
              "      background-color: #E8F0FE;\n",
              "      border: none;\n",
              "      border-radius: 50%;\n",
              "      cursor: pointer;\n",
              "      display: none;\n",
              "      fill: #1967D2;\n",
              "      height: 32px;\n",
              "      padding: 0 0 0 0;\n",
              "      width: 32px;\n",
              "    }\n",
              "\n",
              "    .colab-df-convert:hover {\n",
              "      background-color: #E2EBFA;\n",
              "      box-shadow: 0px 1px 2px rgba(60, 64, 67, 0.3), 0px 1px 3px 1px rgba(60, 64, 67, 0.15);\n",
              "      fill: #174EA6;\n",
              "    }\n",
              "\n",
              "    .colab-df-buttons div {\n",
              "      margin-bottom: 4px;\n",
              "    }\n",
              "\n",
              "    [theme=dark] .colab-df-convert {\n",
              "      background-color: #3B4455;\n",
              "      fill: #D2E3FC;\n",
              "    }\n",
              "\n",
              "    [theme=dark] .colab-df-convert:hover {\n",
              "      background-color: #434B5C;\n",
              "      box-shadow: 0px 1px 3px 1px rgba(0, 0, 0, 0.15);\n",
              "      filter: drop-shadow(0px 1px 2px rgba(0, 0, 0, 0.3));\n",
              "      fill: #FFFFFF;\n",
              "    }\n",
              "  </style>\n",
              "\n",
              "    <script>\n",
              "      const buttonEl =\n",
              "        document.querySelector('#df-dca204e7-4cf5-41cd-82f2-278eb6ad0b6c button.colab-df-convert');\n",
              "      buttonEl.style.display =\n",
              "        google.colab.kernel.accessAllowed ? 'block' : 'none';\n",
              "\n",
              "      async function convertToInteractive(key) {\n",
              "        const element = document.querySelector('#df-dca204e7-4cf5-41cd-82f2-278eb6ad0b6c');\n",
              "        const dataTable =\n",
              "          await google.colab.kernel.invokeFunction('convertToInteractive',\n",
              "                                                    [key], {});\n",
              "        if (!dataTable) return;\n",
              "\n",
              "        const docLinkHtml = 'Like what you see? Visit the ' +\n",
              "          '<a target=\"_blank\" href=https://colab.research.google.com/notebooks/data_table.ipynb>data table notebook</a>'\n",
              "          + ' to learn more about interactive tables.';\n",
              "        element.innerHTML = '';\n",
              "        dataTable['output_type'] = 'display_data';\n",
              "        await google.colab.output.renderOutput(dataTable, element);\n",
              "        const docLink = document.createElement('div');\n",
              "        docLink.innerHTML = docLinkHtml;\n",
              "        element.appendChild(docLink);\n",
              "      }\n",
              "    </script>\n",
              "  </div>\n",
              "\n",
              "\n",
              "<div id=\"df-c3975a84-8db7-4fb9-9d17-53a5d15da982\">\n",
              "  <button class=\"colab-df-quickchart\" onclick=\"quickchart('df-c3975a84-8db7-4fb9-9d17-53a5d15da982')\"\n",
              "            title=\"Suggest charts\"\n",
              "            style=\"display:none;\">\n",
              "\n",
              "<svg xmlns=\"http://www.w3.org/2000/svg\" height=\"24px\"viewBox=\"0 0 24 24\"\n",
              "     width=\"24px\">\n",
              "    <g>\n",
              "        <path d=\"M19 3H5c-1.1 0-2 .9-2 2v14c0 1.1.9 2 2 2h14c1.1 0 2-.9 2-2V5c0-1.1-.9-2-2-2zM9 17H7v-7h2v7zm4 0h-2V7h2v10zm4 0h-2v-4h2v4z\"/>\n",
              "    </g>\n",
              "</svg>\n",
              "  </button>\n",
              "\n",
              "<style>\n",
              "  .colab-df-quickchart {\n",
              "      --bg-color: #E8F0FE;\n",
              "      --fill-color: #1967D2;\n",
              "      --hover-bg-color: #E2EBFA;\n",
              "      --hover-fill-color: #174EA6;\n",
              "      --disabled-fill-color: #AAA;\n",
              "      --disabled-bg-color: #DDD;\n",
              "  }\n",
              "\n",
              "  [theme=dark] .colab-df-quickchart {\n",
              "      --bg-color: #3B4455;\n",
              "      --fill-color: #D2E3FC;\n",
              "      --hover-bg-color: #434B5C;\n",
              "      --hover-fill-color: #FFFFFF;\n",
              "      --disabled-bg-color: #3B4455;\n",
              "      --disabled-fill-color: #666;\n",
              "  }\n",
              "\n",
              "  .colab-df-quickchart {\n",
              "    background-color: var(--bg-color);\n",
              "    border: none;\n",
              "    border-radius: 50%;\n",
              "    cursor: pointer;\n",
              "    display: none;\n",
              "    fill: var(--fill-color);\n",
              "    height: 32px;\n",
              "    padding: 0;\n",
              "    width: 32px;\n",
              "  }\n",
              "\n",
              "  .colab-df-quickchart:hover {\n",
              "    background-color: var(--hover-bg-color);\n",
              "    box-shadow: 0 1px 2px rgba(60, 64, 67, 0.3), 0 1px 3px 1px rgba(60, 64, 67, 0.15);\n",
              "    fill: var(--button-hover-fill-color);\n",
              "  }\n",
              "\n",
              "  .colab-df-quickchart-complete:disabled,\n",
              "  .colab-df-quickchart-complete:disabled:hover {\n",
              "    background-color: var(--disabled-bg-color);\n",
              "    fill: var(--disabled-fill-color);\n",
              "    box-shadow: none;\n",
              "  }\n",
              "\n",
              "  .colab-df-spinner {\n",
              "    border: 2px solid var(--fill-color);\n",
              "    border-color: transparent;\n",
              "    border-bottom-color: var(--fill-color);\n",
              "    animation:\n",
              "      spin 1s steps(1) infinite;\n",
              "  }\n",
              "\n",
              "  @keyframes spin {\n",
              "    0% {\n",
              "      border-color: transparent;\n",
              "      border-bottom-color: var(--fill-color);\n",
              "      border-left-color: var(--fill-color);\n",
              "    }\n",
              "    20% {\n",
              "      border-color: transparent;\n",
              "      border-left-color: var(--fill-color);\n",
              "      border-top-color: var(--fill-color);\n",
              "    }\n",
              "    30% {\n",
              "      border-color: transparent;\n",
              "      border-left-color: var(--fill-color);\n",
              "      border-top-color: var(--fill-color);\n",
              "      border-right-color: var(--fill-color);\n",
              "    }\n",
              "    40% {\n",
              "      border-color: transparent;\n",
              "      border-right-color: var(--fill-color);\n",
              "      border-top-color: var(--fill-color);\n",
              "    }\n",
              "    60% {\n",
              "      border-color: transparent;\n",
              "      border-right-color: var(--fill-color);\n",
              "    }\n",
              "    80% {\n",
              "      border-color: transparent;\n",
              "      border-right-color: var(--fill-color);\n",
              "      border-bottom-color: var(--fill-color);\n",
              "    }\n",
              "    90% {\n",
              "      border-color: transparent;\n",
              "      border-bottom-color: var(--fill-color);\n",
              "    }\n",
              "  }\n",
              "</style>\n",
              "\n",
              "  <script>\n",
              "    async function quickchart(key) {\n",
              "      const quickchartButtonEl =\n",
              "        document.querySelector('#' + key + ' button');\n",
              "      quickchartButtonEl.disabled = true;  // To prevent multiple clicks.\n",
              "      quickchartButtonEl.classList.add('colab-df-spinner');\n",
              "      try {\n",
              "        const charts = await google.colab.kernel.invokeFunction(\n",
              "            'suggestCharts', [key], {});\n",
              "      } catch (error) {\n",
              "        console.error('Error during call to suggestCharts:', error);\n",
              "      }\n",
              "      quickchartButtonEl.classList.remove('colab-df-spinner');\n",
              "      quickchartButtonEl.classList.add('colab-df-quickchart-complete');\n",
              "    }\n",
              "    (() => {\n",
              "      let quickchartButtonEl =\n",
              "        document.querySelector('#df-c3975a84-8db7-4fb9-9d17-53a5d15da982 button');\n",
              "      quickchartButtonEl.style.display =\n",
              "        google.colab.kernel.accessAllowed ? 'block' : 'none';\n",
              "    })();\n",
              "  </script>\n",
              "</div>\n",
              "\n",
              "    </div>\n",
              "  </div>\n"
            ]
          },
          "metadata": {},
          "execution_count": 6
        }
      ]
    },
    {
      "cell_type": "markdown",
      "source": [
        "- 중복된 피처명이 총 42개가 존재하고, 각각의 갯수들을 확인할 수 있다.\n",
        "- 이러한 중복된 피처명에 _1,_2를 추가로 부여해 새로은 데이터프레임을 가지는 get_new_feature_name_df()를 생성하였다."
      ],
      "metadata": {
        "id": "rP8-PjtgGTT0"
      }
    },
    {
      "cell_type": "code",
      "source": [
        "# 중복된 피처명에 _1, _2를 추가하여 새로운 피처명을 가지는 dataframe으로 반환하는 함수 생성\n",
        "\n",
        "def get_new_feature_name_df(old_feature_name_df):\n",
        "  feature_dup_df = pd.DataFrame(data = old_feature_name_df.groupby('column_name').cumcount(),\n",
        "                                columns = ['dup_cnt'])\n",
        "  feature_dup_df = feature_dup_df.reset_index()\n",
        "  new_feature_name_df = pd.merge(old_feature_name_df.reset_index(), feature_dup_df, how = 'outer')\n",
        "  new_feature_name_df['column_name'] = new_feature_name_df[['column_name',\n",
        "                                                             'dup_cnt']].apply(lambda x : x[0]+'_'+str(x[1])\n",
        "                                                             if x[1] > 0 else x[0] , axis = 1)\n",
        "  new_feature_name_df = new_feature_name_df.drop(['index'], axis = 1)\n",
        "  return new_feature_name_df"
      ],
      "metadata": {
        "id": "ZbNCW-jvGSMa"
      },
      "execution_count": 10,
      "outputs": []
    },
    {
      "cell_type": "markdown",
      "source": [
        "- get_new_feature_name_df를 생성해준 뒤, features.txt 속성에 적용시켜주고, 데이터 셋에 있는 train, test 파일의 피처 데이터 파일과 레이블 데이터 파일을 불러와준다.\n",
        "\n",
        "- 레이블 데이터 파일의 레이블 속성은 'action'으로 지정해주고, get_new_feature_df 함수를 적용시켜 데이터프레임을 만드는 일이 종종 발생하기 때문에 이를 적용시켜주는 get_human_dataset() 함수를 새롭게 생성해준다.\n",
        "- 결론적으로 모델을 생성하기 전에 데이터 셋을 분리해주어야 하는데, 분리하는 것까지 포함한 get_human_dataset()을 데이터 셋 분리할 때 적용시켜주었다."
      ],
      "metadata": {
        "id": "AkdP8EX2G-T-"
      }
    },
    {
      "cell_type": "code",
      "source": [
        "import pandas as pd\n",
        "\n",
        "def get_human_dataset( ):\n",
        "\n",
        "  # 각 데이터 파일은 공백으로 분리되어 있으므로 read_csv에서 공백 문자를 sep으로 할당\n",
        "  feature_name_df = pd.read_csv(\"/content/UCI HAR Dataset/features.txt\", sep = '\\s+',\n",
        "                                header = None, names = ['column_index','column_name'])\n",
        "  # 중복된 피처명을 수정하는 get_new_feature_name_df()를 이용, 신규 피처명 DataFrame 생성\n",
        "  new_feature_name_df = get_new_feature_name_df(feature_name_df)\n",
        "\n",
        "  # DataFrame에 피처명을 칼럼으로 부여하기 위해 리스트 객체로 다시 변환\n",
        "  feature_name = new_feature_name_df.iloc[:,1].values.tolist()\n",
        "\n",
        "  # 학습 피처 데이터세트와 테스트 피처 데이터를 DataFrame으로 로딩. 칼럼명은 feature_name 적용\n",
        "  X_train = pd.read_csv(\"/content/UCI HAR Dataset/train/X_train.txt\", sep = '\\s+', names = feature_name)\n",
        "  X_test = pd.read_csv(\"/content/UCI HAR Dataset/test/X_test.txt\", sep = '\\s+', names = feature_name)\n",
        "\n",
        "  # 학습 레이블과 테스트 레이블 데이터를 DataFrame으로 로딩하고 칼럼명은 action으로 부여\n",
        "  y_train = pd.read_csv(\"/content/UCI HAR Dataset/train/y_train.txt\", sep = '\\s+', header = None, names = ['action'])\n",
        "  y_test = pd.read_csv(\"/content/UCI HAR Dataset/test/y_test.txt\",sep = '\\s+', header = None, names = ['action'])\n",
        "\n",
        "  # 로드된 학습/테스트용 DataFrame을 모두 반환\n",
        "  return X_train, X_test, y_train, y_test\n",
        "\n",
        "X_train, X_test, y_train, y_test = get_human_dataset()\n",
        "\n",
        "print(X_train.shape, y_train.shape)\n",
        "print(X_test.shape, y_test.shape)"
      ],
      "metadata": {
        "colab": {
          "base_uri": "https://localhost:8080/"
        },
        "id": "4KXEd1GlG8yl",
        "outputId": "5097a67a-ff45-41b6-da3f-a95d4ecc565b"
      },
      "execution_count": 15,
      "outputs": [
        {
          "output_type": "stream",
          "name": "stdout",
          "text": [
            "(7352, 561) (7352, 1)\n",
            "(2947, 561) (2947, 1)\n"
          ]
        }
      ]
    },
    {
      "cell_type": "markdown",
      "source": [
        "### 3.2 데이터셋 살펴보기"
      ],
      "metadata": {
        "id": "bF8laJBoH_lF"
      }
    },
    {
      "cell_type": "code",
      "source": [
        "print(\"##### X_train info 값 #####\")\n",
        "X_train.info()\n",
        "\n",
        "print(\"-\" * 100)\n",
        "\n",
        "print(\"##### y_train info 값 #####\")\n",
        "y_train.info()\n",
        "\n",
        "print(\"-\" * 100)\n",
        "\n",
        "print(\"##### X_test info 값 #####\")\n",
        "X_test.info()\n",
        "\n",
        "print(\"-\" * 100)\n",
        "\n",
        "print(\"##### y_test info 값 #####\")\n",
        "y_test.info()"
      ],
      "metadata": {
        "colab": {
          "base_uri": "https://localhost:8080/"
        },
        "id": "lSBJYSl4IBrg",
        "outputId": "570423f9-8eb0-4f3a-b3dc-fbb609781cd8"
      },
      "execution_count": 18,
      "outputs": [
        {
          "output_type": "stream",
          "name": "stdout",
          "text": [
            "##### X_train info 값 #####\n",
            "<class 'pandas.core.frame.DataFrame'>\n",
            "RangeIndex: 7352 entries, 0 to 7351\n",
            "Columns: 561 entries, tBodyAcc-mean()-X to angle(Z,gravityMean)\n",
            "dtypes: float64(561)\n",
            "memory usage: 31.5 MB\n",
            "----------------------------------------------------------------------------------------------------\n",
            "##### y_train info 값 #####\n",
            "<class 'pandas.core.frame.DataFrame'>\n",
            "RangeIndex: 7352 entries, 0 to 7351\n",
            "Data columns (total 1 columns):\n",
            " #   Column  Non-Null Count  Dtype\n",
            "---  ------  --------------  -----\n",
            " 0   action  7352 non-null   int64\n",
            "dtypes: int64(1)\n",
            "memory usage: 57.6 KB\n",
            "----------------------------------------------------------------------------------------------------\n",
            "##### X_test info 값 #####\n",
            "<class 'pandas.core.frame.DataFrame'>\n",
            "RangeIndex: 2947 entries, 0 to 2946\n",
            "Columns: 561 entries, tBodyAcc-mean()-X to angle(Z,gravityMean)\n",
            "dtypes: float64(561)\n",
            "memory usage: 12.6 MB\n",
            "----------------------------------------------------------------------------------------------------\n",
            "##### y_test info 값 #####\n",
            "<class 'pandas.core.frame.DataFrame'>\n",
            "RangeIndex: 2947 entries, 0 to 2946\n",
            "Data columns (total 1 columns):\n",
            " #   Column  Non-Null Count  Dtype\n",
            "---  ------  --------------  -----\n",
            " 0   action  2947 non-null   int64\n",
            "dtypes: int64(1)\n",
            "memory usage: 23.1 KB\n"
          ]
        }
      ]
    },
    {
      "cell_type": "code",
      "source": [
        "print(y_train[\"action\"].value_counts())\n",
        "print(\"-\" * 100)\n",
        "print(y_test[\"action\"].value_counts())"
      ],
      "metadata": {
        "colab": {
          "base_uri": "https://localhost:8080/"
        },
        "id": "lOx5c7RhI-VK",
        "outputId": "5be284b9-6055-42cb-9a51-cab5d5b83407"
      },
      "execution_count": 22,
      "outputs": [
        {
          "output_type": "stream",
          "name": "stdout",
          "text": [
            "6    1407\n",
            "5    1374\n",
            "4    1286\n",
            "1    1226\n",
            "2    1073\n",
            "3     986\n",
            "Name: action, dtype: int64\n",
            "----------------------------------------------------------------------------------------------------\n",
            "6    537\n",
            "5    532\n",
            "1    496\n",
            "4    491\n",
            "2    471\n",
            "3    420\n",
            "Name: action, dtype: int64\n"
          ]
        }
      ]
    },
    {
      "cell_type": "markdown",
      "source": [
        "- 데이터 셋을 확인해보면, 학습 데이터 셋에는 7352개의 값과 561개의 피처를 가지고 있으며 모두 float 형태이기 때문에 인코딩을 진행시켜 주지 않아도 된다.\n",
        "\n",
        "- 테스트 데이터 셋에는 1 ~ 6까지의 레이블이 존재한다."
      ],
      "metadata": {
        "id": "bvvOJylLJzPZ"
      }
    },
    {
      "cell_type": "markdown",
      "source": [
        "## 4. 머신러닝_결정트리"
      ],
      "metadata": {
        "id": "hcLSIKf4J72h"
      }
    },
    {
      "cell_type": "markdown",
      "source": [
        "### 4.1 모델 생성 및 적용"
      ],
      "metadata": {
        "id": "G89Dlx74J_Og"
      }
    },
    {
      "cell_type": "markdown",
      "source": [
        "- DecisionTreeClassifier(결정트리 분류기)를 불러온 뒤 기본 파라미터를 이용하여 데이터를 학습, 예측을 해주었다.\n",
        "\n",
        "- 결론적으로 정확도와 기본 하이퍼 파라미터에 해당하는 값에 어떤 값을 사용했는지 출력해보았다."
      ],
      "metadata": {
        "id": "jjJ7oBY6KCxn"
      }
    },
    {
      "cell_type": "code",
      "source": [
        "# 의사결정나무로 분류하기\n",
        "from sklearn.tree import DecisionTreeClassifier\n",
        "from sklearn.metrics import accuracy_score\n",
        "\n",
        "# 예제 반복 시마다 동일한 예측 결과 도출을 위해 random_state 설정\n",
        "dt_clf = DecisionTreeClassifier(random_state = 2024)\n",
        "dt_clf.fit(X_train, y_train)\n",
        "\n",
        "# 예측결과\n",
        "pred = dt_clf.predict(X_test)\n",
        "accuracy = accuracy_score(y_test, pred)\n",
        "print(\"결정트리 예측 정확도: {0:.4f}\".format(accuracy))\n",
        "\n",
        "# DecisionTreeClassifier의 하이퍼 파라미터 추출\n",
        "print(\"DecisionTreeClassifier 기본 하이퍼 파라미터:\\n\", dt_clf.get_params())"
      ],
      "metadata": {
        "colab": {
          "base_uri": "https://localhost:8080/"
        },
        "id": "F4USC4wdKB90",
        "outputId": "b4793356-12d6-46c2-8234-e10fb6240688"
      },
      "execution_count": 23,
      "outputs": [
        {
          "output_type": "stream",
          "name": "stdout",
          "text": [
            "결정트리 예측 정확도: 0.8571\n",
            "DecisionTreeClassifier 기본 하이퍼 파라미터:\n",
            " {'ccp_alpha': 0.0, 'class_weight': None, 'criterion': 'gini', 'max_depth': None, 'max_features': None, 'max_leaf_nodes': None, 'min_impurity_decrease': 0.0, 'min_samples_leaf': 1, 'min_samples_split': 2, 'min_weight_fraction_leaf': 0.0, 'random_state': 2024, 'splitter': 'best'}\n"
          ]
        }
      ]
    },
    {
      "cell_type": "markdown",
      "source": [
        "- 결정트리의 하이퍼 파라미터 중 max_depth의 최적값을 찾기 위해 값을 변화 시키면서 예측성능을 확인해보았다.\n",
        "- min_samples_split은 16으로 고정하였다."
      ],
      "metadata": {
        "id": "sOfpDZXqKiL4"
      }
    },
    {
      "cell_type": "code",
      "source": [
        "# GridSearchCV 실행\n",
        "from sklearn.model_selection import GridSearchCV\n",
        "\n",
        "params = {\n",
        "    'max_depth' : [6,8,10,12,16,20,24],\n",
        "    'min_samples_split' : [16]\n",
        "}\n",
        "\n",
        "grid_cv = GridSearchCV(dt_clf, param_grid = params, scoring = 'accuracy', cv = 5, verbose = 1)\n",
        "grid_cv.fit(X_train, y_train)\n",
        "\n",
        "print('GridSearchCV 최고 평균 정확도 수치: {0:.4f}'.format(grid_cv.best_score_))\n",
        "print('GridSearchCV 최적 하이퍼 파라미터:', grid_cv.best_params_)"
      ],
      "metadata": {
        "colab": {
          "base_uri": "https://localhost:8080/"
        },
        "id": "6gkxXw9VKlxs",
        "outputId": "3582656a-1541-4df1-f14c-712b6e7195e0"
      },
      "execution_count": 24,
      "outputs": [
        {
          "output_type": "stream",
          "name": "stdout",
          "text": [
            "Fitting 5 folds for each of 7 candidates, totalling 35 fits\n",
            "GridSearchCV 최고 평균 정확도 수치: 0.8486\n",
            "GridSearchCV 최적 하이퍼 파라미터: {'max_depth': 10, 'min_samples_split': 16}\n"
          ]
        }
      ]
    },
    {
      "cell_type": "markdown",
      "source": [
        "- max_depth 파라미터 값에 따른 테스트 세트, 학습 데이터 세트의 정확도 수치를  추출한다."
      ],
      "metadata": {
        "id": "Ok7ljnnyK1O_"
      }
    },
    {
      "cell_type": "code",
      "source": [
        "# GridSearchCV 객체의 cv_results_ 속성을 DataFrame으로 생성\n",
        "cv_results_df = pd.DataFrame(grid_cv.cv_results_)\n",
        "\n",
        "# max_depth 파라미터 값과 그때의 테스트 세트, 학습 데이터 세트의 정확도 수치 추출\n",
        "cv_results_df[['param_max_depth', 'mean_test_score']]"
      ],
      "metadata": {
        "colab": {
          "base_uri": "https://localhost:8080/",
          "height": 269
        },
        "id": "m3K5fQxvK0j7",
        "outputId": "f1f75508-84e1-4498-da30-bec819d3c714"
      },
      "execution_count": 26,
      "outputs": [
        {
          "output_type": "execute_result",
          "data": {
            "text/plain": [
              "  param_max_depth  mean_test_score\n",
              "0               6         0.848207\n",
              "1               8         0.847668\n",
              "2              10         0.848622\n",
              "3              12         0.841142\n",
              "4              16         0.843590\n",
              "5              20         0.842231\n",
              "6              24         0.842231"
            ],
            "text/html": [
              "\n",
              "  <div id=\"df-c9705abf-3033-4ab9-99fd-7ba14b62c22e\" class=\"colab-df-container\">\n",
              "    <div>\n",
              "<style scoped>\n",
              "    .dataframe tbody tr th:only-of-type {\n",
              "        vertical-align: middle;\n",
              "    }\n",
              "\n",
              "    .dataframe tbody tr th {\n",
              "        vertical-align: top;\n",
              "    }\n",
              "\n",
              "    .dataframe thead th {\n",
              "        text-align: right;\n",
              "    }\n",
              "</style>\n",
              "<table border=\"1\" class=\"dataframe\">\n",
              "  <thead>\n",
              "    <tr style=\"text-align: right;\">\n",
              "      <th></th>\n",
              "      <th>param_max_depth</th>\n",
              "      <th>mean_test_score</th>\n",
              "    </tr>\n",
              "  </thead>\n",
              "  <tbody>\n",
              "    <tr>\n",
              "      <th>0</th>\n",
              "      <td>6</td>\n",
              "      <td>0.848207</td>\n",
              "    </tr>\n",
              "    <tr>\n",
              "      <th>1</th>\n",
              "      <td>8</td>\n",
              "      <td>0.847668</td>\n",
              "    </tr>\n",
              "    <tr>\n",
              "      <th>2</th>\n",
              "      <td>10</td>\n",
              "      <td>0.848622</td>\n",
              "    </tr>\n",
              "    <tr>\n",
              "      <th>3</th>\n",
              "      <td>12</td>\n",
              "      <td>0.841142</td>\n",
              "    </tr>\n",
              "    <tr>\n",
              "      <th>4</th>\n",
              "      <td>16</td>\n",
              "      <td>0.843590</td>\n",
              "    </tr>\n",
              "    <tr>\n",
              "      <th>5</th>\n",
              "      <td>20</td>\n",
              "      <td>0.842231</td>\n",
              "    </tr>\n",
              "    <tr>\n",
              "      <th>6</th>\n",
              "      <td>24</td>\n",
              "      <td>0.842231</td>\n",
              "    </tr>\n",
              "  </tbody>\n",
              "</table>\n",
              "</div>\n",
              "    <div class=\"colab-df-buttons\">\n",
              "\n",
              "  <div class=\"colab-df-container\">\n",
              "    <button class=\"colab-df-convert\" onclick=\"convertToInteractive('df-c9705abf-3033-4ab9-99fd-7ba14b62c22e')\"\n",
              "            title=\"Convert this dataframe to an interactive table.\"\n",
              "            style=\"display:none;\">\n",
              "\n",
              "  <svg xmlns=\"http://www.w3.org/2000/svg\" height=\"24px\" viewBox=\"0 -960 960 960\">\n",
              "    <path d=\"M120-120v-720h720v720H120Zm60-500h600v-160H180v160Zm220 220h160v-160H400v160Zm0 220h160v-160H400v160ZM180-400h160v-160H180v160Zm440 0h160v-160H620v160ZM180-180h160v-160H180v160Zm440 0h160v-160H620v160Z\"/>\n",
              "  </svg>\n",
              "    </button>\n",
              "\n",
              "  <style>\n",
              "    .colab-df-container {\n",
              "      display:flex;\n",
              "      gap: 12px;\n",
              "    }\n",
              "\n",
              "    .colab-df-convert {\n",
              "      background-color: #E8F0FE;\n",
              "      border: none;\n",
              "      border-radius: 50%;\n",
              "      cursor: pointer;\n",
              "      display: none;\n",
              "      fill: #1967D2;\n",
              "      height: 32px;\n",
              "      padding: 0 0 0 0;\n",
              "      width: 32px;\n",
              "    }\n",
              "\n",
              "    .colab-df-convert:hover {\n",
              "      background-color: #E2EBFA;\n",
              "      box-shadow: 0px 1px 2px rgba(60, 64, 67, 0.3), 0px 1px 3px 1px rgba(60, 64, 67, 0.15);\n",
              "      fill: #174EA6;\n",
              "    }\n",
              "\n",
              "    .colab-df-buttons div {\n",
              "      margin-bottom: 4px;\n",
              "    }\n",
              "\n",
              "    [theme=dark] .colab-df-convert {\n",
              "      background-color: #3B4455;\n",
              "      fill: #D2E3FC;\n",
              "    }\n",
              "\n",
              "    [theme=dark] .colab-df-convert:hover {\n",
              "      background-color: #434B5C;\n",
              "      box-shadow: 0px 1px 3px 1px rgba(0, 0, 0, 0.15);\n",
              "      filter: drop-shadow(0px 1px 2px rgba(0, 0, 0, 0.3));\n",
              "      fill: #FFFFFF;\n",
              "    }\n",
              "  </style>\n",
              "\n",
              "    <script>\n",
              "      const buttonEl =\n",
              "        document.querySelector('#df-c9705abf-3033-4ab9-99fd-7ba14b62c22e button.colab-df-convert');\n",
              "      buttonEl.style.display =\n",
              "        google.colab.kernel.accessAllowed ? 'block' : 'none';\n",
              "\n",
              "      async function convertToInteractive(key) {\n",
              "        const element = document.querySelector('#df-c9705abf-3033-4ab9-99fd-7ba14b62c22e');\n",
              "        const dataTable =\n",
              "          await google.colab.kernel.invokeFunction('convertToInteractive',\n",
              "                                                    [key], {});\n",
              "        if (!dataTable) return;\n",
              "\n",
              "        const docLinkHtml = 'Like what you see? Visit the ' +\n",
              "          '<a target=\"_blank\" href=https://colab.research.google.com/notebooks/data_table.ipynb>data table notebook</a>'\n",
              "          + ' to learn more about interactive tables.';\n",
              "        element.innerHTML = '';\n",
              "        dataTable['output_type'] = 'display_data';\n",
              "        await google.colab.output.renderOutput(dataTable, element);\n",
              "        const docLink = document.createElement('div');\n",
              "        docLink.innerHTML = docLinkHtml;\n",
              "        element.appendChild(docLink);\n",
              "      }\n",
              "    </script>\n",
              "  </div>\n",
              "\n",
              "\n",
              "<div id=\"df-8c791bcc-b23b-480e-99c5-2efe1f1ff17a\">\n",
              "  <button class=\"colab-df-quickchart\" onclick=\"quickchart('df-8c791bcc-b23b-480e-99c5-2efe1f1ff17a')\"\n",
              "            title=\"Suggest charts\"\n",
              "            style=\"display:none;\">\n",
              "\n",
              "<svg xmlns=\"http://www.w3.org/2000/svg\" height=\"24px\"viewBox=\"0 0 24 24\"\n",
              "     width=\"24px\">\n",
              "    <g>\n",
              "        <path d=\"M19 3H5c-1.1 0-2 .9-2 2v14c0 1.1.9 2 2 2h14c1.1 0 2-.9 2-2V5c0-1.1-.9-2-2-2zM9 17H7v-7h2v7zm4 0h-2V7h2v10zm4 0h-2v-4h2v4z\"/>\n",
              "    </g>\n",
              "</svg>\n",
              "  </button>\n",
              "\n",
              "<style>\n",
              "  .colab-df-quickchart {\n",
              "      --bg-color: #E8F0FE;\n",
              "      --fill-color: #1967D2;\n",
              "      --hover-bg-color: #E2EBFA;\n",
              "      --hover-fill-color: #174EA6;\n",
              "      --disabled-fill-color: #AAA;\n",
              "      --disabled-bg-color: #DDD;\n",
              "  }\n",
              "\n",
              "  [theme=dark] .colab-df-quickchart {\n",
              "      --bg-color: #3B4455;\n",
              "      --fill-color: #D2E3FC;\n",
              "      --hover-bg-color: #434B5C;\n",
              "      --hover-fill-color: #FFFFFF;\n",
              "      --disabled-bg-color: #3B4455;\n",
              "      --disabled-fill-color: #666;\n",
              "  }\n",
              "\n",
              "  .colab-df-quickchart {\n",
              "    background-color: var(--bg-color);\n",
              "    border: none;\n",
              "    border-radius: 50%;\n",
              "    cursor: pointer;\n",
              "    display: none;\n",
              "    fill: var(--fill-color);\n",
              "    height: 32px;\n",
              "    padding: 0;\n",
              "    width: 32px;\n",
              "  }\n",
              "\n",
              "  .colab-df-quickchart:hover {\n",
              "    background-color: var(--hover-bg-color);\n",
              "    box-shadow: 0 1px 2px rgba(60, 64, 67, 0.3), 0 1px 3px 1px rgba(60, 64, 67, 0.15);\n",
              "    fill: var(--button-hover-fill-color);\n",
              "  }\n",
              "\n",
              "  .colab-df-quickchart-complete:disabled,\n",
              "  .colab-df-quickchart-complete:disabled:hover {\n",
              "    background-color: var(--disabled-bg-color);\n",
              "    fill: var(--disabled-fill-color);\n",
              "    box-shadow: none;\n",
              "  }\n",
              "\n",
              "  .colab-df-spinner {\n",
              "    border: 2px solid var(--fill-color);\n",
              "    border-color: transparent;\n",
              "    border-bottom-color: var(--fill-color);\n",
              "    animation:\n",
              "      spin 1s steps(1) infinite;\n",
              "  }\n",
              "\n",
              "  @keyframes spin {\n",
              "    0% {\n",
              "      border-color: transparent;\n",
              "      border-bottom-color: var(--fill-color);\n",
              "      border-left-color: var(--fill-color);\n",
              "    }\n",
              "    20% {\n",
              "      border-color: transparent;\n",
              "      border-left-color: var(--fill-color);\n",
              "      border-top-color: var(--fill-color);\n",
              "    }\n",
              "    30% {\n",
              "      border-color: transparent;\n",
              "      border-left-color: var(--fill-color);\n",
              "      border-top-color: var(--fill-color);\n",
              "      border-right-color: var(--fill-color);\n",
              "    }\n",
              "    40% {\n",
              "      border-color: transparent;\n",
              "      border-right-color: var(--fill-color);\n",
              "      border-top-color: var(--fill-color);\n",
              "    }\n",
              "    60% {\n",
              "      border-color: transparent;\n",
              "      border-right-color: var(--fill-color);\n",
              "    }\n",
              "    80% {\n",
              "      border-color: transparent;\n",
              "      border-right-color: var(--fill-color);\n",
              "      border-bottom-color: var(--fill-color);\n",
              "    }\n",
              "    90% {\n",
              "      border-color: transparent;\n",
              "      border-bottom-color: var(--fill-color);\n",
              "    }\n",
              "  }\n",
              "</style>\n",
              "\n",
              "  <script>\n",
              "    async function quickchart(key) {\n",
              "      const quickchartButtonEl =\n",
              "        document.querySelector('#' + key + ' button');\n",
              "      quickchartButtonEl.disabled = true;  // To prevent multiple clicks.\n",
              "      quickchartButtonEl.classList.add('colab-df-spinner');\n",
              "      try {\n",
              "        const charts = await google.colab.kernel.invokeFunction(\n",
              "            'suggestCharts', [key], {});\n",
              "      } catch (error) {\n",
              "        console.error('Error during call to suggestCharts:', error);\n",
              "      }\n",
              "      quickchartButtonEl.classList.remove('colab-df-spinner');\n",
              "      quickchartButtonEl.classList.add('colab-df-quickchart-complete');\n",
              "    }\n",
              "    (() => {\n",
              "      let quickchartButtonEl =\n",
              "        document.querySelector('#df-8c791bcc-b23b-480e-99c5-2efe1f1ff17a button');\n",
              "      quickchartButtonEl.style.display =\n",
              "        google.colab.kernel.accessAllowed ? 'block' : 'none';\n",
              "    })();\n",
              "  </script>\n",
              "</div>\n",
              "\n",
              "    </div>\n",
              "  </div>\n"
            ]
          },
          "metadata": {},
          "execution_count": 26
        }
      ]
    },
    {
      "cell_type": "markdown",
      "source": [
        "- 결론적으로 max_depth 가 8일때, 모델의 정확도 성능이 0.8548에서 0.8549로 상승한 것을 알 수 있다."
      ],
      "metadata": {
        "id": "XkMy7sBzLDOL"
      }
    },
    {
      "cell_type": "markdown",
      "source": [
        "- 다음으로 별도의 테스트 데이터 셋에서 minsamples_split은 16으로 고정하고, max_depth의 변화에 따른 값을 측정해보았다."
      ],
      "metadata": {
        "id": "coXVC2FBLGGD"
      }
    },
    {
      "cell_type": "code",
      "source": [
        "max_depths = [6,8,10,12,16,20,24]\n",
        "\n",
        "# max_depth 값을 변화시키면서 그때마다 학습과 테스트 세트에서의 예측 성능 측정\n",
        "for depth in max_depths:\n",
        "  dt_clf = DecisionTreeClassifier(max_depth = depth, min_samples_split = 16, random_state = 156)\n",
        "  dt_clf.fit(X_train, y_train)\n",
        "  pred = dt_clf.predict(X_test)\n",
        "  accuracy = accuracy_score(y_test, pred)\n",
        "  print('max_depth = {0} 정확도: {1:.4f}'.format(depth, accuracy))"
      ],
      "metadata": {
        "colab": {
          "base_uri": "https://localhost:8080/"
        },
        "id": "DrfPOR2vLLj7",
        "outputId": "c782ea75-a94d-44ec-d491-b86c2c20c2e9"
      },
      "execution_count": 25,
      "outputs": [
        {
          "output_type": "stream",
          "name": "stdout",
          "text": [
            "max_depth = 6 정확도: 0.8551\n",
            "max_depth = 8 정확도: 0.8717\n",
            "max_depth = 10 정확도: 0.8599\n",
            "max_depth = 12 정확도: 0.8571\n",
            "max_depth = 16 정확도: 0.8599\n",
            "max_depth = 20 정확도: 0.8565\n",
            "max_depth = 24 정확도: 0.8565\n"
          ]
        }
      ]
    },
    {
      "cell_type": "markdown",
      "source": [
        "- 테스트 데이터 셋에서도 mox_depth가 8일 때 87.17%로 가장 성능이 좋게 나왔다.\n",
        "- 다음으로는 min_samples_split도 변화를 주면서 정확도 성능을 튜닝해보았다."
      ],
      "metadata": {
        "id": "F_-NdUPmLSKD"
      }
    },
    {
      "cell_type": "code",
      "source": [
        "params = {\n",
        "    'max_depth' : [6,8,10,12,16,20,24],\n",
        "    'min_samples_split' : [16, 24]\n",
        "}\n",
        "\n",
        "grid_cv = GridSearchCV(dt_clf, param_grid = params, scoring = 'accuracy', cv = 5, verbose = 1)\n",
        "grid_cv.fit(X_train, y_train)\n",
        "print('GridSearchCV 최고 평균 정확도 수치: {0:.4f}'.format(grid_cv.best_score_))\n",
        "print('GridSearchCV 최적 하이퍼 파라미터:', grid_cv.best_params_)"
      ],
      "metadata": {
        "colab": {
          "base_uri": "https://localhost:8080/"
        },
        "id": "LCHHfAeOLW56",
        "outputId": "2be2790f-80e6-4471-f59b-c85d5a95881f"
      },
      "execution_count": 27,
      "outputs": [
        {
          "output_type": "stream",
          "name": "stdout",
          "text": [
            "Fitting 5 folds for each of 14 candidates, totalling 70 fits\n",
            "GridSearchCV 최고 평균 정확도 수치: 0.8549\n",
            "GridSearchCV 최적 하이퍼 파라미터: {'max_depth': 8, 'min_samples_split': 16}\n"
          ]
        }
      ]
    },
    {
      "cell_type": "markdown",
      "source": [
        "- best_estimator_을 이용하여 테스트 데이터 셋의 최고 정확도가 무엇인지 알아보았다."
      ],
      "metadata": {
        "id": "L4o6Xk4TLbuB"
      }
    },
    {
      "cell_type": "code",
      "source": [
        "best_df_clf = grid_cv.best_estimator_\n",
        "pred1 = best_df_clf.predict(X_test)\n",
        "accuracy = accuracy_score(y_test, pred1)\n",
        "\n",
        "print('결정트리 예측 정확도:{0:.4f}'.format(accuracy))"
      ],
      "metadata": {
        "colab": {
          "base_uri": "https://localhost:8080/"
        },
        "id": "GP0RMR7FLdT4",
        "outputId": "294110f5-ebb7-4d54-952f-fad27826656d"
      },
      "execution_count": 29,
      "outputs": [
        {
          "output_type": "stream",
          "name": "stdout",
          "text": [
            "결정트리 예측 정확도:0.8717\n"
          ]
        }
      ]
    },
    {
      "cell_type": "markdown",
      "source": [
        "- 마지막으로 결정 트리에서 각 피처의 중요도를 feature_importances_ 속성을 이용해 알아본다."
      ],
      "metadata": {
        "id": "h2eF--xuLjvg"
      }
    },
    {
      "cell_type": "code",
      "source": [
        "ftr_importances_values = best_df_clf.feature_importances_\n",
        "\n",
        "# Top 중요도로 정렬을 쉽게 하고, 시본의 막대그래프로 쉽게 표현하기 위해 Series 변환\n",
        "ftr_importances = pd.Series(ftr_importances_values, index = X_train.columns)\n",
        "\n",
        "# 중요도값 순으로 Series를 정렬\n",
        "ftr_top20 = ftr_importances.sort_values(ascending = False)[:20]\n",
        "plt.figure(figsize = (8,6))\n",
        "plt.title('Feature importances Top 20')\n",
        "sns.barplot(x = ftr_top20, y = ftr_top20.index, palette = colors)\n",
        "plt.show()"
      ],
      "metadata": {
        "colab": {
          "base_uri": "https://localhost:8080/",
          "height": 711
        },
        "id": "GdFgH7kgLmB_",
        "outputId": "477c63fd-9e21-41d9-e625-54367b636450"
      },
      "execution_count": 34,
      "outputs": [
        {
          "output_type": "stream",
          "name": "stderr",
          "text": [
            "<ipython-input-34-506d82cd37eb>:10: FutureWarning: \n",
            "\n",
            "Passing `palette` without assigning `hue` is deprecated and will be removed in v0.14.0. Assign the `y` variable to `hue` and set `legend=False` for the same effect.\n",
            "\n",
            "  sns.barplot(x = ftr_top20, y = ftr_top20.index, palette = colors)\n",
            "<ipython-input-34-506d82cd37eb>:10: UserWarning: \n",
            "The palette list has fewer values (6) than needed (20) and will cycle, which may produce an uninterpretable plot.\n",
            "  sns.barplot(x = ftr_top20, y = ftr_top20.index, palette = colors)\n"
          ]
        },
        {
          "output_type": "display_data",
          "data": {
            "text/plain": [
              "<Figure size 800x600 with 1 Axes>"
            ],
            "image/png": "[encoded data removed]"
          },
          "metadata": {}
        }
      ]
    },
    {
      "cell_type": "markdown",
      "source": [
        "## 5. 머신러닝_랜덤포레스트"
      ],
      "metadata": {
        "id": "cR454z6mVy-F"
      }
    },
    {
      "cell_type": "markdown",
      "source": [
        "- 파라미터 값을 default로 랜덤 포레스트 모델로 정확도를 측정한다."
      ],
      "metadata": {
        "id": "AkPUfLNdWXhh"
      }
    },
    {
      "cell_type": "code",
      "source": [
        "# 랜덤 포레스트 학습 및 별도의 테스트 세트로 예측 성능 평가\n",
        "rf_clf = RandomForestClassifier(random_state=221)\n",
        "rf_clf.fit(X_train, y_train)\n",
        "\n",
        "pred = rf_clf.predict(X_test)\n",
        "accuracy = accuracy_score(y_test, pred)\n",
        "\n",
        "print('랜덤 포레스트 정확도: {:.4f}'.format(accuracy))"
      ],
      "metadata": {
        "colab": {
          "base_uri": "https://localhost:8080/"
        },
        "id": "OPIDSN4dV2fz",
        "outputId": "41116564-b5cd-4845-8133-c41675666ab3"
      },
      "execution_count": 37,
      "outputs": [
        {
          "output_type": "stream",
          "name": "stderr",
          "text": [
            "<ipython-input-37-7272f9ed7812>:3: DataConversionWarning: A column-vector y was passed when a 1d array was expected. Please change the shape of y to (n_samples,), for example using ravel().\n",
            "  rf_clf.fit(X_train, y_train)\n"
          ]
        },
        {
          "output_type": "stream",
          "name": "stdout",
          "text": [
            "랜덤 포레스트 정확도: 0.9220\n"
          ]
        }
      ]
    },
    {
      "cell_type": "markdown",
      "source": [
        "- 파라미터 값을 default로 수행한 결과, 랜덤포레스트는 사용자 행동 인식 데이터셋에 92.20%의 정확도를 보인다."
      ],
      "metadata": {
        "id": "1BP9ZiyCWbWY"
      }
    },
    {
      "cell_type": "markdown",
      "source": [
        "- RandomForest의 하이퍼 파라미터 default 상태를 확인한다."
      ],
      "metadata": {
        "id": "HfzBOKOXWjTa"
      }
    },
    {
      "cell_type": "code",
      "source": [
        "model_default = RandomForestClassifier()\n",
        "\n",
        "print(\"RandomForestClassifier의 기본 매개변수:\\n\", model_default.get_params())"
      ],
      "metadata": {
        "colab": {
          "base_uri": "https://localhost:8080/"
        },
        "id": "mHJ4edzkWooK",
        "outputId": "dc72ab17-1e35-4ac4-8c5a-5587df0d00ec"
      },
      "execution_count": 41,
      "outputs": [
        {
          "output_type": "stream",
          "name": "stdout",
          "text": [
            "RandomForestClassifier의 기본 매개변수:\n",
            " {'bootstrap': True, 'ccp_alpha': 0.0, 'class_weight': None, 'criterion': 'gini', 'max_depth': None, 'max_features': 'sqrt', 'max_leaf_nodes': None, 'max_samples': None, 'min_impurity_decrease': 0.0, 'min_samples_leaf': 1, 'min_samples_split': 2, 'min_weight_fraction_leaf': 0.0, 'n_estimators': 100, 'n_jobs': None, 'oob_score': False, 'random_state': None, 'verbose': 0, 'warm_start': False}\n"
          ]
        }
      ]
    },
    {
      "cell_type": "markdown",
      "source": [
        "- GridSearchCV를 통한 랜덤포레스트의 하이퍼파라미터 튜닝을 진행한다."
      ],
      "metadata": {
        "id": "xUCxQwBtXgJZ"
      }
    },
    {
      "cell_type": "code",
      "source": [
        "from sklearn.model_selection import GridSearchCV\n",
        "\n",
        "params = {'n_estimators' : [10, 100],\n",
        "          'max_depth' : [6, 8, 10, 12],\n",
        "          'min_samples_leaf' : [8, 12, 18],\n",
        "          'min_samples_split' : [8, 16, 20]\n",
        "          }\n",
        "\n",
        "# RandomForestClassifier 객체 생성 후 GridSearchCV 수행\n",
        "rf_clf = RandomForestClassifier(random_state = 221, n_jobs = -1)\n",
        "grid_cv = GridSearchCV(rf_clf,\n",
        "                       param_grid = params,\n",
        "                       cv = 3,\n",
        "                       n_jobs = -1)\n",
        "grid_cv.fit(X_train, y_train)\n",
        "\n",
        "print('최적 하이퍼 파라미터: ', grid_cv.best_params_)\n",
        "print('최고 예측 정확도: {:.4f}'.format(grid_cv.best_score_))"
      ],
      "metadata": {
        "colab": {
          "base_uri": "https://localhost:8080/"
        },
        "id": "W8jcPGNIWu8U",
        "outputId": "68970959-cecc-4e26-8642-0b26809e64b3"
      },
      "execution_count": 42,
      "outputs": [
        {
          "output_type": "stream",
          "name": "stderr",
          "text": [
            "/usr/local/lib/python3.10/dist-packages/sklearn/model_selection/_search.py:909: DataConversionWarning: A column-vector y was passed when a 1d array was expected. Please change the shape of y to (n_samples,), for example using ravel().\n",
            "  self.best_estimator_.fit(X, y, **fit_params)\n"
          ]
        },
        {
          "output_type": "stream",
          "name": "stdout",
          "text": [
            "최적 하이퍼 파라미터:  {'max_depth': 12, 'min_samples_leaf': 12, 'min_samples_split': 8, 'n_estimators': 100}\n",
            "최고 예측 정확도: 0.9193\n"
          ]
        }
      ]
    },
    {
      "cell_type": "markdown",
      "source": [
        "- max_depth : 12 , min_samples_leaf : 12 , min_samples_split : 8 , n_estimators : 100 일 때, 정확도가 91.93%로 측정되었다.\n",
        "- 앞선 결정트리 모델의 예측값 87% 보다 향상된 예측 성과를 보였다.\n",
        "\n",
        "- 이번에는 이 파라미터로 RandomForestClassifier를 다시 학습시킨 뒤, test 데이터셋에서 예측성능을 측정해본다."
      ],
      "metadata": {
        "id": "RTfnyM70XpQx"
      }
    },
    {
      "cell_type": "code",
      "source": [
        "rf_clf1 = RandomForestClassifier(n_estimators = 100,\n",
        "                                max_depth = 12,\n",
        "                                min_samples_leaf = 12,\n",
        "                                min_samples_split = 8,\n",
        "                                random_state = 0,\n",
        "                                n_jobs = -1)\n",
        "\n",
        "rf_clf1.fit(X_train, y_train)\n",
        "pred = rf_clf1.predict(X_test)\n",
        "\n",
        "print('예측 정확도: {:.4f}'.format(accuracy_score(y_test,pred)))"
      ],
      "metadata": {
        "colab": {
          "base_uri": "https://localhost:8080/"
        },
        "id": "i54k1I7BXykK",
        "outputId": "465aa986-1621-4335-a715-31cdd53cc86b"
      },
      "execution_count": 43,
      "outputs": [
        {
          "output_type": "stream",
          "name": "stderr",
          "text": [
            "<ipython-input-43-13be9a244d45>:7: DataConversionWarning: A column-vector y was passed when a 1d array was expected. Please change the shape of y to (n_samples,), for example using ravel().\n",
            "  rf_clf1.fit(X_train, y_train)\n"
          ]
        },
        {
          "output_type": "stream",
          "name": "stdout",
          "text": [
            "예측 정확도: 0.9213\n"
          ]
        }
      ]
    },
    {
      "cell_type": "markdown",
      "source": [
        "- 랜덤포레스트의 각 피처 중요도를 시각화한다.\n",
        "- 본 중요도는 max_depth : 12 , min_samples_leaf : 12 , min_samples_split : 8 , n_estimators : 100 일 때, 어떤 피처가 크게 영향을 미쳤는지 파악하는 것을 목적으로 한다."
      ],
      "metadata": {
        "id": "_iVN_TSuX31B"
      }
    },
    {
      "cell_type": "code",
      "source": [
        "ftr_importances_values = rf_clf1.feature_importances_\n",
        "ftr_importances = pd.Series(ftr_importances_values, index = X_train.columns)\n",
        "ftr_top20 = ftr_importances.sort_values(ascending=False)[:20]\n",
        "\n",
        "plt.figure(figsize=(8,6))\n",
        "plt.title('Top 20 Feature Importances')\n",
        "sns.barplot(x=ftr_top20, y=ftr_top20.index, palette = colors)\n",
        "plt.show()"
      ],
      "metadata": {
        "colab": {
          "base_uri": "https://localhost:8080/",
          "height": 711
        },
        "id": "SIsP79IDYZBO",
        "outputId": "6dcc4991-a0b5-4023-9108-6714a788e49a"
      },
      "execution_count": 44,
      "outputs": [
        {
          "output_type": "stream",
          "name": "stderr",
          "text": [
            "<ipython-input-44-acbbf5e9e164>:7: FutureWarning: \n",
            "\n",
            "Passing `palette` without assigning `hue` is deprecated and will be removed in v0.14.0. Assign the `y` variable to `hue` and set `legend=False` for the same effect.\n",
            "\n",
            "  sns.barplot(x=ftr_top20, y=ftr_top20.index, palette = colors)\n",
            "<ipython-input-44-acbbf5e9e164>:7: UserWarning: \n",
            "The palette list has fewer values (6) than needed (20) and will cycle, which may produce an uninterpretable plot.\n",
            "  sns.barplot(x=ftr_top20, y=ftr_top20.index, palette = colors)\n"
          ]
        },
        {
          "output_type": "display_data",
          "data": {
            "text/plain": [
              "<Figure size 800x600 with 1 Axes>"
            ],
            "image/png": "[encoded data removed]"
          },
          "metadata": {}
        }
      ]
    }
  ]
}