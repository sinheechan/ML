{
  "cells": [
    {
      "cell_type": "markdown",
      "metadata": {
        "id": "view-in-github",
        "colab_type": "text"
      },
      "source": [
        "<a href=\"https://colab.research.google.com/github/sinheechan/ML/blob/main/%EB%B2%A0%EC%9D%B4%EC%A7%80%EC%95%88_%EC%B5%9C%EC%A0%81%ED%99%94_%ED%95%98%EC%9D%B4%ED%8D%BC%ED%8C%8C%EB%9D%BC%EB%AF%B8%ED%84%B0_%ED%8A%9C%EB%8B%9D_%EC%8B%A4%EC%8A%B5.ipynb\" target=\"_parent\"><img src=\"https://colab.research.google.com/assets/colab-badge.svg\" alt=\"Open In Colab\"/></a>"
      ]
    },
    {
      "cell_type": "markdown",
      "source": [
        "## 1. 초기 설정"
      ],
      "metadata": {
        "id": "R4Q6OBFjEHD3"
      },
      "id": "R4Q6OBFjEHD3"
    },
    {
      "cell_type": "code",
      "execution_count": 19,
      "id": "2d57320f",
      "metadata": {
        "id": "2d57320f",
        "colab": {
          "base_uri": "https://localhost:8080/"
        },
        "outputId": "80a32bfe-2560-4eb6-f91d-f245aab34361"
      },
      "outputs": [
        {
          "output_type": "stream",
          "name": "stdout",
          "text": [
            "Requirement already satisfied: hyperopt in /usr/local/lib/python3.10/dist-packages (0.2.7)\n",
            "Requirement already satisfied: numpy in /usr/local/lib/python3.10/dist-packages (from hyperopt) (1.23.5)\n",
            "Requirement already satisfied: scipy in /usr/local/lib/python3.10/dist-packages (from hyperopt) (1.11.4)\n",
            "Requirement already satisfied: six in /usr/local/lib/python3.10/dist-packages (from hyperopt) (1.16.0)\n",
            "Requirement already satisfied: networkx>=2.2 in /usr/local/lib/python3.10/dist-packages (from hyperopt) (3.2.1)\n",
            "Requirement already satisfied: future in /usr/local/lib/python3.10/dist-packages (from hyperopt) (0.18.3)\n",
            "Requirement already satisfied: tqdm in /usr/local/lib/python3.10/dist-packages (from hyperopt) (4.66.1)\n",
            "Requirement already satisfied: cloudpickle in /usr/local/lib/python3.10/dist-packages (from hyperopt) (2.2.1)\n",
            "Requirement already satisfied: py4j in /usr/local/lib/python3.10/dist-packages (from hyperopt) (0.10.9.7)\n"
          ]
        }
      ],
      "source": [
        "pip install hyperopt"
      ]
    },
    {
      "cell_type": "code",
      "execution_count": 20,
      "id": "6ff2c890",
      "metadata": {
        "colab": {
          "base_uri": "https://localhost:8080/"
        },
        "id": "6ff2c890",
        "outputId": "6b698182-0e2b-4ef4-b3d9-7f37aae3687a"
      },
      "outputs": [
        {
          "output_type": "stream",
          "name": "stdout",
          "text": [
            "0.2.7\n"
          ]
        }
      ],
      "source": [
        "import hyperopt\n",
        "\n",
        "print(hyperopt.__version__)"
      ]
    },
    {
      "cell_type": "markdown",
      "source": [
        "## 2. 데이터셋 생성\n",
        "\n",
        "- -10 ~ 10까지 1간격을 가지는 입력 변수 x와\n",
        "- -15 ~ 15까지 1간격으로 입력 변수 y 설정한다"
      ],
      "metadata": {
        "id": "YuSZe5p-EKsW"
      },
      "id": "YuSZe5p-EKsW"
    },
    {
      "cell_type": "code",
      "execution_count": 21,
      "id": "59720ff7",
      "metadata": {
        "id": "59720ff7",
        "colab": {
          "base_uri": "https://localhost:8080/"
        },
        "outputId": "d83b03ad-ce91-4ebb-aa1c-9159270ff92d"
      },
      "outputs": [
        {
          "output_type": "stream",
          "name": "stdout",
          "text": [
            "0 float\n",
            "1   hyperopt_param\n",
            "2     Literal{x}\n",
            "3     quniform\n",
            "4       Literal{-10}\n",
            "5       Literal{10}\n",
            "6       Literal{1} 0 float\n",
            "1   hyperopt_param\n",
            "2     Literal{y}\n",
            "3     quniform\n",
            "4       Literal{-15}\n",
            "5       Literal{15}\n",
            "6       Literal{1}\n"
          ]
        }
      ],
      "source": [
        "from hyperopt import hp\n",
        "\n",
        "search_space = {'x': hp.quniform('x', -10, 10, 1), 'y': hp.quniform('y', -15, 15, 1) }\n",
        "print(search_space['x'], search_space['y'])"
      ]
    },
    {
      "cell_type": "markdown",
      "source": [
        "- 목적 함수를 생성한다.\n",
        "- 변숫값과 변수 검색 공간을 가지는 딕셔너리를 인자로 받고, 특정 값을 반환하는 역할을 한다."
      ],
      "metadata": {
        "id": "Nq6u_PzNEVQy"
      },
      "id": "Nq6u_PzNEVQy"
    },
    {
      "cell_type": "code",
      "execution_count": 22,
      "id": "53ecdd65",
      "metadata": {
        "id": "53ecdd65"
      },
      "outputs": [],
      "source": [
        "from hyperopt import STATUS_OK\n",
        "\n",
        "# 목적 함수를 생성. 변숫값과 변수 검색 공간을 가지는 딕셔너리를 인자로 받고, 특정 값을 반환\n",
        "def objective_func(search_space):\n",
        "    x = search_space['x']\n",
        "    y = search_space['y']\n",
        "    retval = x**2 - 20*y\n",
        "\n",
        "    return retval"
      ]
    },
    {
      "cell_type": "markdown",
      "source": [
        "## 3. 머신러닝 적용하기"
      ],
      "metadata": {
        "id": "OVCDeqhEGcYy"
      },
      "id": "OVCDeqhEGcYy"
    },
    {
      "cell_type": "markdown",
      "source": [
        "- Hyperopt를 사용하여 주어진 목적 함수(objective_func)를 최소화하는 최적의 하이퍼파라미터 조합을 찾는다."
      ],
      "metadata": {
        "id": "tiVuWQSHEjLG"
      },
      "id": "tiVuWQSHEjLG"
    },
    {
      "cell_type": "code",
      "execution_count": 23,
      "id": "0022844b",
      "metadata": {
        "colab": {
          "base_uri": "https://localhost:8080/"
        },
        "id": "0022844b",
        "outputId": "355d48da-ed7e-4549-8e37-b100a9b19fc5"
      },
      "outputs": [
        {
          "output_type": "stream",
          "name": "stdout",
          "text": [
            "100%|██████████| 5/5 [00:00<00:00, 623.61trial/s, best loss: -224.0]\n",
            "best: {'x': -4.0, 'y': 12.0}\n"
          ]
        }
      ],
      "source": [
        "from hyperopt import fmin, tpe, Trials\n",
        "import numpy as np\n",
        "\n",
        "# 입력 결괏값을 저장한 Trials 객체값 생성.\n",
        "trial_val = Trials()\n",
        "\n",
        "# 목적 함수의 최솟값을 반환하는 최적 입력 변숫값을 5번의 입력값 시도(max_evals=5)로 찾아냄.\n",
        "best_01 = fmin(fn=objective_func, space=search_space, algo=tpe.suggest, max_evals=5\n",
        "               , trials=trial_val, rstate=np.random.default_rng(seed=0))\n",
        "\n",
        "print('best:', best_01)"
      ]
    },
    {
      "cell_type": "markdown",
      "source": [
        "- 위 결과로 {'x': -4.0, 'y': 12.0} 값이 최적의 파라미터 조합임을 확인했다."
      ],
      "metadata": {
        "id": "vLJ6uEBJEtt2"
      },
      "id": "vLJ6uEBJEtt2"
    },
    {
      "cell_type": "markdown",
      "source": [
        "- 추가적으로, 이전 과정을 반복하되\n",
        "- max_evals 매개변수를 20회로 증가시켜서 하이퍼파라미터 최적화를 보다 더 많은 시도로 진행한다."
      ],
      "metadata": {
        "id": "38YZBDmEE5fo"
      },
      "id": "38YZBDmEE5fo"
    },
    {
      "cell_type": "code",
      "execution_count": 24,
      "id": "b29e3a4d",
      "metadata": {
        "colab": {
          "base_uri": "https://localhost:8080/"
        },
        "id": "b29e3a4d",
        "outputId": "3f31da43-ae52-4dfd-f60a-4a04b3ebda3c"
      },
      "outputs": [
        {
          "output_type": "stream",
          "name": "stdout",
          "text": [
            "100%|██████████| 20/20 [00:00<00:00, 700.09trial/s, best loss: -296.0]\n",
            "best: {'x': 2.0, 'y': 15.0}\n"
          ]
        }
      ],
      "source": [
        "trial_val = Trials()\n",
        "\n",
        "# max_evals를 20회로 늘려서 재테스트\n",
        "best_02 = fmin(fn=objective_func, space=search_space, algo=tpe.suggest, max_evals=20\n",
        "               , trials=trial_val, rstate=np.random.default_rng(seed=0))\n",
        "print('best:', best_02)"
      ]
    },
    {
      "cell_type": "markdown",
      "source": [
        "위 결과는 이전과 다르게 {'x': 2.0, 'y': 15.0} 값이 최적의 파라미터 조합으로 출력되었다."
      ],
      "metadata": {
        "id": "YoIToToAFChP"
      },
      "id": "YoIToToAFChP"
    },
    {
      "cell_type": "markdown",
      "source": [
        "- fmin( )에 인자로 들어가는 Trials 객체의 result 속성에 파이썬 리스트로 목적 함수 반환값들이 저장된다.\n",
        "- 이 과정으로 최적화 과정에서 각 시도에 대한 정보를 살펴볼 수 있다.\n",
        "- 리스트 내부의 개별 원소는 {'loss':함수 반환값, 'status':반환 상태값} 와 같은 딕셔너리 형태이다."
      ],
      "metadata": {
        "id": "bVvtOykaFdWt"
      },
      "id": "bVvtOykaFdWt"
    },
    {
      "cell_type": "code",
      "execution_count": 25,
      "id": "69910b83",
      "metadata": {
        "colab": {
          "base_uri": "https://localhost:8080/"
        },
        "id": "69910b83",
        "outputId": "42352bab-de24-4979-8a88-d802378b340d"
      },
      "outputs": [
        {
          "output_type": "stream",
          "name": "stdout",
          "text": [
            "[{'loss': -64.0, 'status': 'ok'}, {'loss': -184.0, 'status': 'ok'}, {'loss': 56.0, 'status': 'ok'}, {'loss': -224.0, 'status': 'ok'}, {'loss': 61.0, 'status': 'ok'}, {'loss': -296.0, 'status': 'ok'}, {'loss': -40.0, 'status': 'ok'}, {'loss': 281.0, 'status': 'ok'}, {'loss': 64.0, 'status': 'ok'}, {'loss': 100.0, 'status': 'ok'}, {'loss': 60.0, 'status': 'ok'}, {'loss': -39.0, 'status': 'ok'}, {'loss': 1.0, 'status': 'ok'}, {'loss': -164.0, 'status': 'ok'}, {'loss': 21.0, 'status': 'ok'}, {'loss': -56.0, 'status': 'ok'}, {'loss': 284.0, 'status': 'ok'}, {'loss': 176.0, 'status': 'ok'}, {'loss': -171.0, 'status': 'ok'}, {'loss': 0.0, 'status': 'ok'}]\n"
          ]
        }
      ],
      "source": [
        "print(trial_val.results)"
      ]
    },
    {
      "cell_type": "markdown",
      "source": [
        "- 실험에서 사용된 각 하이퍼파라미터에 대한 값의 추적한다.\n",
        "- Trials 객체의 vals 속성에 {'입력변수명':개별 수행 시마다 입력된 값 리스트} 형태로 저장됨."
      ],
      "metadata": {
        "id": "HS2qaEaUF6CF"
      },
      "id": "HS2qaEaUF6CF"
    },
    {
      "cell_type": "code",
      "execution_count": 26,
      "id": "4f52a94f",
      "metadata": {
        "colab": {
          "base_uri": "https://localhost:8080/"
        },
        "id": "4f52a94f",
        "outputId": "d3132f29-625b-41f4-8419-52fa06deb027"
      },
      "outputs": [
        {
          "output_type": "stream",
          "name": "stdout",
          "text": [
            "{'x': [-6.0, -4.0, 4.0, -4.0, 9.0, 2.0, 10.0, -9.0, -8.0, -0.0, -0.0, 1.0, 9.0, 6.0, 9.0, 2.0, -2.0, -4.0, 7.0, -0.0], 'y': [5.0, 10.0, -2.0, 12.0, 1.0, 15.0, 7.0, -10.0, 0.0, -5.0, -3.0, 2.0, 4.0, 10.0, 3.0, 3.0, -14.0, -8.0, 11.0, -0.0]}\n"
          ]
        }
      ],
      "source": [
        "print(trial_val.vals)"
      ]
    },
    {
      "cell_type": "markdown",
      "source": [
        "앞서 출력한 trial_val.results 값과 trial_val.vals 값을 데이터프레임 형태로 결합한다."
      ],
      "metadata": {
        "id": "2MjF-WHIGMCC"
      },
      "id": "2MjF-WHIGMCC"
    },
    {
      "cell_type": "code",
      "execution_count": 27,
      "id": "3596f8c2",
      "metadata": {
        "id": "3596f8c2",
        "colab": {
          "base_uri": "https://localhost:8080/",
          "height": 677
        },
        "outputId": "514ab716-2eb5-4e53-cfeb-d464d15e48d2"
      },
      "outputs": [
        {
          "output_type": "execute_result",
          "data": {
            "text/plain": [
              "       x     y  losses\n",
              "0   -6.0   5.0   -64.0\n",
              "1   -4.0  10.0  -184.0\n",
              "2    4.0  -2.0    56.0\n",
              "3   -4.0  12.0  -224.0\n",
              "4    9.0   1.0    61.0\n",
              "5    2.0  15.0  -296.0\n",
              "6   10.0   7.0   -40.0\n",
              "7   -9.0 -10.0   281.0\n",
              "8   -8.0   0.0    64.0\n",
              "9   -0.0  -5.0   100.0\n",
              "10  -0.0  -3.0    60.0\n",
              "11   1.0   2.0   -39.0\n",
              "12   9.0   4.0     1.0\n",
              "13   6.0  10.0  -164.0\n",
              "14   9.0   3.0    21.0\n",
              "15   2.0   3.0   -56.0\n",
              "16  -2.0 -14.0   284.0\n",
              "17  -4.0  -8.0   176.0\n",
              "18   7.0  11.0  -171.0\n",
              "19  -0.0  -0.0     0.0"
            ],
            "text/html": [
              "\n",
              "  <div id=\"df-d9e83df9-91f0-4705-856e-8bb2301cd862\" class=\"colab-df-container\">\n",
              "    <div>\n",
              "<style scoped>\n",
              "    .dataframe tbody tr th:only-of-type {\n",
              "        vertical-align: middle;\n",
              "    }\n",
              "\n",
              "    .dataframe tbody tr th {\n",
              "        vertical-align: top;\n",
              "    }\n",
              "\n",
              "    .dataframe thead th {\n",
              "        text-align: right;\n",
              "    }\n",
              "</style>\n",
              "<table border=\"1\" class=\"dataframe\">\n",
              "  <thead>\n",
              "    <tr style=\"text-align: right;\">\n",
              "      <th></th>\n",
              "      <th>x</th>\n",
              "      <th>y</th>\n",
              "      <th>losses</th>\n",
              "    </tr>\n",
              "  </thead>\n",
              "  <tbody>\n",
              "    <tr>\n",
              "      <th>0</th>\n",
              "      <td>-6.0</td>\n",
              "      <td>5.0</td>\n",
              "      <td>-64.0</td>\n",
              "    </tr>\n",
              "    <tr>\n",
              "      <th>1</th>\n",
              "      <td>-4.0</td>\n",
              "      <td>10.0</td>\n",
              "      <td>-184.0</td>\n",
              "    </tr>\n",
              "    <tr>\n",
              "      <th>2</th>\n",
              "      <td>4.0</td>\n",
              "      <td>-2.0</td>\n",
              "      <td>56.0</td>\n",
              "    </tr>\n",
              "    <tr>\n",
              "      <th>3</th>\n",
              "      <td>-4.0</td>\n",
              "      <td>12.0</td>\n",
              "      <td>-224.0</td>\n",
              "    </tr>\n",
              "    <tr>\n",
              "      <th>4</th>\n",
              "      <td>9.0</td>\n",
              "      <td>1.0</td>\n",
              "      <td>61.0</td>\n",
              "    </tr>\n",
              "    <tr>\n",
              "      <th>5</th>\n",
              "      <td>2.0</td>\n",
              "      <td>15.0</td>\n",
              "      <td>-296.0</td>\n",
              "    </tr>\n",
              "    <tr>\n",
              "      <th>6</th>\n",
              "      <td>10.0</td>\n",
              "      <td>7.0</td>\n",
              "      <td>-40.0</td>\n",
              "    </tr>\n",
              "    <tr>\n",
              "      <th>7</th>\n",
              "      <td>-9.0</td>\n",
              "      <td>-10.0</td>\n",
              "      <td>281.0</td>\n",
              "    </tr>\n",
              "    <tr>\n",
              "      <th>8</th>\n",
              "      <td>-8.0</td>\n",
              "      <td>0.0</td>\n",
              "      <td>64.0</td>\n",
              "    </tr>\n",
              "    <tr>\n",
              "      <th>9</th>\n",
              "      <td>-0.0</td>\n",
              "      <td>-5.0</td>\n",
              "      <td>100.0</td>\n",
              "    </tr>\n",
              "    <tr>\n",
              "      <th>10</th>\n",
              "      <td>-0.0</td>\n",
              "      <td>-3.0</td>\n",
              "      <td>60.0</td>\n",
              "    </tr>\n",
              "    <tr>\n",
              "      <th>11</th>\n",
              "      <td>1.0</td>\n",
              "      <td>2.0</td>\n",
              "      <td>-39.0</td>\n",
              "    </tr>\n",
              "    <tr>\n",
              "      <th>12</th>\n",
              "      <td>9.0</td>\n",
              "      <td>4.0</td>\n",
              "      <td>1.0</td>\n",
              "    </tr>\n",
              "    <tr>\n",
              "      <th>13</th>\n",
              "      <td>6.0</td>\n",
              "      <td>10.0</td>\n",
              "      <td>-164.0</td>\n",
              "    </tr>\n",
              "    <tr>\n",
              "      <th>14</th>\n",
              "      <td>9.0</td>\n",
              "      <td>3.0</td>\n",
              "      <td>21.0</td>\n",
              "    </tr>\n",
              "    <tr>\n",
              "      <th>15</th>\n",
              "      <td>2.0</td>\n",
              "      <td>3.0</td>\n",
              "      <td>-56.0</td>\n",
              "    </tr>\n",
              "    <tr>\n",
              "      <th>16</th>\n",
              "      <td>-2.0</td>\n",
              "      <td>-14.0</td>\n",
              "      <td>284.0</td>\n",
              "    </tr>\n",
              "    <tr>\n",
              "      <th>17</th>\n",
              "      <td>-4.0</td>\n",
              "      <td>-8.0</td>\n",
              "      <td>176.0</td>\n",
              "    </tr>\n",
              "    <tr>\n",
              "      <th>18</th>\n",
              "      <td>7.0</td>\n",
              "      <td>11.0</td>\n",
              "      <td>-171.0</td>\n",
              "    </tr>\n",
              "    <tr>\n",
              "      <th>19</th>\n",
              "      <td>-0.0</td>\n",
              "      <td>-0.0</td>\n",
              "      <td>0.0</td>\n",
              "    </tr>\n",
              "  </tbody>\n",
              "</table>\n",
              "</div>\n",
              "    <div class=\"colab-df-buttons\">\n",
              "\n",
              "  <div class=\"colab-df-container\">\n",
              "    <button class=\"colab-df-convert\" onclick=\"convertToInteractive('df-d9e83df9-91f0-4705-856e-8bb2301cd862')\"\n",
              "            title=\"Convert this dataframe to an interactive table.\"\n",
              "            style=\"display:none;\">\n",
              "\n",
              "  <svg xmlns=\"http://www.w3.org/2000/svg\" height=\"24px\" viewBox=\"0 -960 960 960\">\n",
              "    <path d=\"M120-120v-720h720v720H120Zm60-500h600v-160H180v160Zm220 220h160v-160H400v160Zm0 220h160v-160H400v160ZM180-400h160v-160H180v160Zm440 0h160v-160H620v160ZM180-180h160v-160H180v160Zm440 0h160v-160H620v160Z\"/>\n",
              "  </svg>\n",
              "    </button>\n",
              "\n",
              "  <style>\n",
              "    .colab-df-container {\n",
              "      display:flex;\n",
              "      gap: 12px;\n",
              "    }\n",
              "\n",
              "    .colab-df-convert {\n",
              "      background-color: #E8F0FE;\n",
              "      border: none;\n",
              "      border-radius: 50%;\n",
              "      cursor: pointer;\n",
              "      display: none;\n",
              "      fill: #1967D2;\n",
              "      height: 32px;\n",
              "      padding: 0 0 0 0;\n",
              "      width: 32px;\n",
              "    }\n",
              "\n",
              "    .colab-df-convert:hover {\n",
              "      background-color: #E2EBFA;\n",
              "      box-shadow: 0px 1px 2px rgba(60, 64, 67, 0.3), 0px 1px 3px 1px rgba(60, 64, 67, 0.15);\n",
              "      fill: #174EA6;\n",
              "    }\n",
              "\n",
              "    .colab-df-buttons div {\n",
              "      margin-bottom: 4px;\n",
              "    }\n",
              "\n",
              "    [theme=dark] .colab-df-convert {\n",
              "      background-color: #3B4455;\n",
              "      fill: #D2E3FC;\n",
              "    }\n",
              "\n",
              "    [theme=dark] .colab-df-convert:hover {\n",
              "      background-color: #434B5C;\n",
              "      box-shadow: 0px 1px 3px 1px rgba(0, 0, 0, 0.15);\n",
              "      filter: drop-shadow(0px 1px 2px rgba(0, 0, 0, 0.3));\n",
              "      fill: #FFFFFF;\n",
              "    }\n",
              "  </style>\n",
              "\n",
              "    <script>\n",
              "      const buttonEl =\n",
              "        document.querySelector('#df-d9e83df9-91f0-4705-856e-8bb2301cd862 button.colab-df-convert');\n",
              "      buttonEl.style.display =\n",
              "        google.colab.kernel.accessAllowed ? 'block' : 'none';\n",
              "\n",
              "      async function convertToInteractive(key) {\n",
              "        const element = document.querySelector('#df-d9e83df9-91f0-4705-856e-8bb2301cd862');\n",
              "        const dataTable =\n",
              "          await google.colab.kernel.invokeFunction('convertToInteractive',\n",
              "                                                    [key], {});\n",
              "        if (!dataTable) return;\n",
              "\n",
              "        const docLinkHtml = 'Like what you see? Visit the ' +\n",
              "          '<a target=\"_blank\" href=https://colab.research.google.com/notebooks/data_table.ipynb>data table notebook</a>'\n",
              "          + ' to learn more about interactive tables.';\n",
              "        element.innerHTML = '';\n",
              "        dataTable['output_type'] = 'display_data';\n",
              "        await google.colab.output.renderOutput(dataTable, element);\n",
              "        const docLink = document.createElement('div');\n",
              "        docLink.innerHTML = docLinkHtml;\n",
              "        element.appendChild(docLink);\n",
              "      }\n",
              "    </script>\n",
              "  </div>\n",
              "\n",
              "\n",
              "<div id=\"df-f05ed426-9acf-4bb5-af64-864504719399\">\n",
              "  <button class=\"colab-df-quickchart\" onclick=\"quickchart('df-f05ed426-9acf-4bb5-af64-864504719399')\"\n",
              "            title=\"Suggest charts\"\n",
              "            style=\"display:none;\">\n",
              "\n",
              "<svg xmlns=\"http://www.w3.org/2000/svg\" height=\"24px\"viewBox=\"0 0 24 24\"\n",
              "     width=\"24px\">\n",
              "    <g>\n",
              "        <path d=\"M19 3H5c-1.1 0-2 .9-2 2v14c0 1.1.9 2 2 2h14c1.1 0 2-.9 2-2V5c0-1.1-.9-2-2-2zM9 17H7v-7h2v7zm4 0h-2V7h2v10zm4 0h-2v-4h2v4z\"/>\n",
              "    </g>\n",
              "</svg>\n",
              "  </button>\n",
              "\n",
              "<style>\n",
              "  .colab-df-quickchart {\n",
              "      --bg-color: #E8F0FE;\n",
              "      --fill-color: #1967D2;\n",
              "      --hover-bg-color: #E2EBFA;\n",
              "      --hover-fill-color: #174EA6;\n",
              "      --disabled-fill-color: #AAA;\n",
              "      --disabled-bg-color: #DDD;\n",
              "  }\n",
              "\n",
              "  [theme=dark] .colab-df-quickchart {\n",
              "      --bg-color: #3B4455;\n",
              "      --fill-color: #D2E3FC;\n",
              "      --hover-bg-color: #434B5C;\n",
              "      --hover-fill-color: #FFFFFF;\n",
              "      --disabled-bg-color: #3B4455;\n",
              "      --disabled-fill-color: #666;\n",
              "  }\n",
              "\n",
              "  .colab-df-quickchart {\n",
              "    background-color: var(--bg-color);\n",
              "    border: none;\n",
              "    border-radius: 50%;\n",
              "    cursor: pointer;\n",
              "    display: none;\n",
              "    fill: var(--fill-color);\n",
              "    height: 32px;\n",
              "    padding: 0;\n",
              "    width: 32px;\n",
              "  }\n",
              "\n",
              "  .colab-df-quickchart:hover {\n",
              "    background-color: var(--hover-bg-color);\n",
              "    box-shadow: 0 1px 2px rgba(60, 64, 67, 0.3), 0 1px 3px 1px rgba(60, 64, 67, 0.15);\n",
              "    fill: var(--button-hover-fill-color);\n",
              "  }\n",
              "\n",
              "  .colab-df-quickchart-complete:disabled,\n",
              "  .colab-df-quickchart-complete:disabled:hover {\n",
              "    background-color: var(--disabled-bg-color);\n",
              "    fill: var(--disabled-fill-color);\n",
              "    box-shadow: none;\n",
              "  }\n",
              "\n",
              "  .colab-df-spinner {\n",
              "    border: 2px solid var(--fill-color);\n",
              "    border-color: transparent;\n",
              "    border-bottom-color: var(--fill-color);\n",
              "    animation:\n",
              "      spin 1s steps(1) infinite;\n",
              "  }\n",
              "\n",
              "  @keyframes spin {\n",
              "    0% {\n",
              "      border-color: transparent;\n",
              "      border-bottom-color: var(--fill-color);\n",
              "      border-left-color: var(--fill-color);\n",
              "    }\n",
              "    20% {\n",
              "      border-color: transparent;\n",
              "      border-left-color: var(--fill-color);\n",
              "      border-top-color: var(--fill-color);\n",
              "    }\n",
              "    30% {\n",
              "      border-color: transparent;\n",
              "      border-left-color: var(--fill-color);\n",
              "      border-top-color: var(--fill-color);\n",
              "      border-right-color: var(--fill-color);\n",
              "    }\n",
              "    40% {\n",
              "      border-color: transparent;\n",
              "      border-right-color: var(--fill-color);\n",
              "      border-top-color: var(--fill-color);\n",
              "    }\n",
              "    60% {\n",
              "      border-color: transparent;\n",
              "      border-right-color: var(--fill-color);\n",
              "    }\n",
              "    80% {\n",
              "      border-color: transparent;\n",
              "      border-right-color: var(--fill-color);\n",
              "      border-bottom-color: var(--fill-color);\n",
              "    }\n",
              "    90% {\n",
              "      border-color: transparent;\n",
              "      border-bottom-color: var(--fill-color);\n",
              "    }\n",
              "  }\n",
              "</style>\n",
              "\n",
              "  <script>\n",
              "    async function quickchart(key) {\n",
              "      const quickchartButtonEl =\n",
              "        document.querySelector('#' + key + ' button');\n",
              "      quickchartButtonEl.disabled = true;  // To prevent multiple clicks.\n",
              "      quickchartButtonEl.classList.add('colab-df-spinner');\n",
              "      try {\n",
              "        const charts = await google.colab.kernel.invokeFunction(\n",
              "            'suggestCharts', [key], {});\n",
              "      } catch (error) {\n",
              "        console.error('Error during call to suggestCharts:', error);\n",
              "      }\n",
              "      quickchartButtonEl.classList.remove('colab-df-spinner');\n",
              "      quickchartButtonEl.classList.add('colab-df-quickchart-complete');\n",
              "    }\n",
              "    (() => {\n",
              "      let quickchartButtonEl =\n",
              "        document.querySelector('#df-f05ed426-9acf-4bb5-af64-864504719399 button');\n",
              "      quickchartButtonEl.style.display =\n",
              "        google.colab.kernel.accessAllowed ? 'block' : 'none';\n",
              "    })();\n",
              "  </script>\n",
              "</div>\n",
              "\n",
              "  <div id=\"id_8aab9f7d-7624-4221-9d3b-011d290f9036\">\n",
              "    <style>\n",
              "      .colab-df-generate {\n",
              "        background-color: #E8F0FE;\n",
              "        border: none;\n",
              "        border-radius: 50%;\n",
              "        cursor: pointer;\n",
              "        display: none;\n",
              "        fill: #1967D2;\n",
              "        height: 32px;\n",
              "        padding: 0 0 0 0;\n",
              "        width: 32px;\n",
              "      }\n",
              "\n",
              "      .colab-df-generate:hover {\n",
              "        background-color: #E2EBFA;\n",
              "        box-shadow: 0px 1px 2px rgba(60, 64, 67, 0.3), 0px 1px 3px 1px rgba(60, 64, 67, 0.15);\n",
              "        fill: #174EA6;\n",
              "      }\n",
              "\n",
              "      [theme=dark] .colab-df-generate {\n",
              "        background-color: #3B4455;\n",
              "        fill: #D2E3FC;\n",
              "      }\n",
              "\n",
              "      [theme=dark] .colab-df-generate:hover {\n",
              "        background-color: #434B5C;\n",
              "        box-shadow: 0px 1px 3px 1px rgba(0, 0, 0, 0.15);\n",
              "        filter: drop-shadow(0px 1px 2px rgba(0, 0, 0, 0.3));\n",
              "        fill: #FFFFFF;\n",
              "      }\n",
              "    </style>\n",
              "    <button class=\"colab-df-generate\" onclick=\"generateWithVariable('result_df')\"\n",
              "            title=\"Generate code using this dataframe.\"\n",
              "            style=\"display:none;\">\n",
              "\n",
              "  <svg xmlns=\"http://www.w3.org/2000/svg\" height=\"24px\"viewBox=\"0 0 24 24\"\n",
              "       width=\"24px\">\n",
              "    <path d=\"M7,19H8.4L18.45,9,17,7.55,7,17.6ZM5,21V16.75L18.45,3.32a2,2,0,0,1,2.83,0l1.4,1.43a1.91,1.91,0,0,1,.58,1.4,1.91,1.91,0,0,1-.58,1.4L9.25,21ZM18.45,9,17,7.55Zm-12,3A5.31,5.31,0,0,0,4.9,8.1,5.31,5.31,0,0,0,1,6.5,5.31,5.31,0,0,0,4.9,4.9,5.31,5.31,0,0,0,6.5,1,5.31,5.31,0,0,0,8.1,4.9,5.31,5.31,0,0,0,12,6.5,5.46,5.46,0,0,0,6.5,12Z\"/>\n",
              "  </svg>\n",
              "    </button>\n",
              "    <script>\n",
              "      (() => {\n",
              "      const buttonEl =\n",
              "        document.querySelector('#id_8aab9f7d-7624-4221-9d3b-011d290f9036 button.colab-df-generate');\n",
              "      buttonEl.style.display =\n",
              "        google.colab.kernel.accessAllowed ? 'block' : 'none';\n",
              "\n",
              "      buttonEl.onclick = () => {\n",
              "        google.colab.notebook.generateWithVariable('result_df');\n",
              "      }\n",
              "      })();\n",
              "    </script>\n",
              "  </div>\n",
              "\n",
              "    </div>\n",
              "  </div>\n"
            ]
          },
          "metadata": {},
          "execution_count": 27
        }
      ],
      "source": [
        "import pandas as pd\n",
        "\n",
        "losses = [loss_dict['loss'] for loss_dict in trial_val.results]\n",
        "\n",
        "result_df = pd.DataFrame({'x': trial_val.vals['x'], 'y': trial_val.vals['y'], 'losses': losses})\n",
        "result_df"
      ]
    },
    {
      "cell_type": "markdown",
      "id": "2955aa8d",
      "metadata": {
        "id": "2955aa8d"
      },
      "source": [
        "## 4. 실습 예제\n",
        "\n",
        "- HyperOpt를 이용한 XGBoost 하이퍼 파라미터 최적화 과정을 진행한다."
      ]
    },
    {
      "cell_type": "code",
      "execution_count": 28,
      "id": "1cb728ec",
      "metadata": {
        "id": "1cb728ec"
      },
      "outputs": [],
      "source": [
        "import pandas as pd\n",
        "import numpy as np\n",
        "from sklearn.datasets import load_breast_cancer\n",
        "from sklearn.model_selection import train_test_split\n",
        "import warnings\n",
        "warnings.filterwarnings('ignore')\n",
        "\n",
        "dataset = load_breast_cancer()\n",
        "\n",
        "cancer_df = pd.DataFrame(data=dataset.data, columns=dataset.feature_names)\n",
        "cancer_df['target']= dataset.target\n",
        "X_features = cancer_df.iloc[:, :-1]\n",
        "y_label = cancer_df.iloc[:, -1]"
      ]
    },
    {
      "cell_type": "markdown",
      "source": [
        "- 전체 데이터 중 80%는 학습용 데이터, 20%는 테스트용 데이터 추출한다.\n",
        "- 그리고 앞에서 추출한 학습 데이터를 다시 학습과 검증 데이터로 분리한다."
      ],
      "metadata": {
        "id": "BMuJPHV6GsvY"
      },
      "id": "BMuJPHV6GsvY"
    },
    {
      "cell_type": "code",
      "execution_count": 29,
      "id": "49e2762e",
      "metadata": {
        "id": "49e2762e"
      },
      "outputs": [],
      "source": [
        "X_train, X_test, y_train, y_test=train_test_split(X_features, y_label, test_size=0.2, random_state=156 )\n",
        "\n",
        "X_tr, X_val, y_tr, y_val= train_test_split(X_train, y_train, test_size=0.1, random_state=156 )"
      ]
    },
    {
      "cell_type": "markdown",
      "source": [
        "- XG boost의 하이퍼파라미터의 탐색 범위를 지정한다.\n"
      ],
      "metadata": {
        "id": "2WS3FIToPkIv"
      },
      "id": "2WS3FIToPkIv"
    },
    {
      "cell_type": "markdown",
      "source": [
        "- max_depth는 5에서 20까지 1간격으로, min_child_weight는 1에서 2까지 1간격으로\n",
        "- colsample_bytree는 0.5에서 1사이, learning_rate는 0.01에서 0.2 사이 정규 분포된 값으로 검색."
      ],
      "metadata": {
        "id": "ytW88WJXPpLg"
      },
      "id": "ytW88WJXPpLg"
    },
    {
      "cell_type": "code",
      "execution_count": 30,
      "id": "2ca5d412",
      "metadata": {
        "id": "2ca5d412"
      },
      "outputs": [],
      "source": [
        "from hyperopt import hp\n",
        "\n",
        "xgb_search_space = {'max_depth': hp.quniform('max_depth', 5, 20, 1),\n",
        "                    'min_child_weight': hp.quniform('min_child_weight', 1, 2, 1),\n",
        "                    'learning_rate': hp.uniform('learning_rate', 0.01, 0.2),\n",
        "                    'colsample_bytree': hp.uniform('colsample_bytree', 0.5, 1),\n",
        "                   }"
      ]
    },
    {
      "cell_type": "markdown",
      "source": [
        "- XGBoost 모델의 하이퍼파라미터를 최적화한다.\n",
        "- 주어진 하이퍼파라미터 조합에 대해 교차 검증을 수행하여 정확도를 계산하고, 이를 최소화하는 방향으로 함수를 생성한다."
      ],
      "metadata": {
        "id": "XvaqVLsMPr-G"
      },
      "id": "XvaqVLsMPr-G"
    },
    {
      "cell_type": "code",
      "execution_count": 31,
      "id": "0cc2d102",
      "metadata": {
        "id": "0cc2d102"
      },
      "outputs": [],
      "source": [
        "from sklearn.model_selection import cross_val_score\n",
        "from xgboost import XGBClassifier\n",
        "from hyperopt import STATUS_OK\n",
        "\n",
        "# fmin()에서 입력된 search_space 값으로 입력된 모든 값은 실수형임.\n",
        "# XGBClassifier의 정수형 하이퍼 파라미터는 정수형 변환을 해줘야 함.\n",
        "# 정확도는 높을수록 더 좋은 수치임. -1 * 정확도를 곱해서 큰 정확도 값일수록 최소가 되도록 변환\n",
        "\n",
        "def objective_func(search_space):\n",
        "    # 수행 시간 절약을 위해 nestimators는 100으로 축소\n",
        "    xgb_clf = XGBClassifier(n_estimators=100, max_depth=int(search_space['max_depth']),\n",
        "                            min_child_weight=int(search_space['min_child_weight']),\n",
        "                            learning_rate=search_space['learning_rate'],\n",
        "                            colsample_bytree=search_space['colsample_bytree'],\n",
        "                            eval_metric='logloss')\n",
        "    accuracy = cross_val_score(xgb_clf, X_train, y_train, scoring='accuracy', cv=3)\n",
        "\n",
        "    # accuracy는 cv=3 개수만큼 roc-auc 결과를 리스트로 가짐. 이를 평균해서 반환하되 -1을 곱함.\n",
        "    return {'loss':-1 * np.mean(accuracy), 'status': STATUS_OK}\n"
      ]
    },
    {
      "cell_type": "markdown",
      "source": [
        "- Hyperopt를 사용하여 XGBoost 모델의 하이퍼파라미터를 최적화한 후 결과를 출력한다."
      ],
      "metadata": {
        "id": "ZTNGJd2mQnEg"
      },
      "id": "ZTNGJd2mQnEg"
    },
    {
      "cell_type": "code",
      "execution_count": 32,
      "id": "fc927169",
      "metadata": {
        "colab": {
          "base_uri": "https://localhost:8080/"
        },
        "id": "fc927169",
        "outputId": "d35b047f-9a27-4ccc-85c8-a01024e3e819"
      },
      "outputs": [
        {
          "output_type": "stream",
          "name": "stdout",
          "text": [
            "100%|██████████| 50/50 [00:53<00:00,  1.06s/trial, best loss: -0.967047170907401]\n",
            "best: {'colsample_bytree': 0.548301545497125, 'learning_rate': 0.1840281762576621, 'max_depth': 18.0, 'min_child_weight': 2.0}\n"
          ]
        }
      ],
      "source": [
        "from hyperopt import fmin, tpe, Trials #tpe: Tree-structured Parzen Estimator Hyperopt가 하이퍼파라미터 공간에서 다음에 검색할 위치에 대해 정보에 입각한 결정을 내리기 위해 사용하는 베이지안 최적화 알고리즘의 한 유형\n",
        "\n",
        "trial_val = Trials()\n",
        "best = fmin(fn=objective_func,\n",
        "            space=xgb_search_space,\n",
        "            algo=tpe.suggest,\n",
        "            max_evals=50, # 최대 반복 횟수를 지정합니다.\n",
        "            trials=trial_val, rstate=np.random.default_rng(seed=9))\n",
        "\n",
        "print('best:', best)\n"
      ]
    },
    {
      "cell_type": "markdown",
      "source": [
        "- best 변수에 저장된 최적의 하이퍼파라미터를 보기 적절한 형식으로 출력한다."
      ],
      "metadata": {
        "id": "I8kAzREEQz3U"
      },
      "id": "I8kAzREEQz3U"
    },
    {
      "cell_type": "code",
      "execution_count": 33,
      "id": "c77da755",
      "metadata": {
        "colab": {
          "base_uri": "https://localhost:8080/"
        },
        "id": "c77da755",
        "outputId": "8be89a54-1a70-46f2-cc80-c70886a192f8"
      },
      "outputs": [
        {
          "output_type": "stream",
          "name": "stdout",
          "text": [
            "colsample_bytree:0.5483, learning_rate:0.18403, max_depth:18, min_child_weight:2\n"
          ]
        }
      ],
      "source": [
        "print('colsample_bytree:{0}, learning_rate:{1}, max_depth:{2}, min_child_weight:{3}'.format(\n",
        "    round(best['colsample_bytree'], 5), round(best['learning_rate'], 5),\n",
        "    int(best['max_depth']), int(best['min_child_weight'])))"
      ]
    },
    {
      "cell_type": "markdown",
      "source": [
        "- 주어진 테스트 데이터셋과 예측값을 기반으로 다양한 평가 지표를 계산하고 출력한다."
      ],
      "metadata": {
        "id": "ovuzb6zxRERg"
      },
      "id": "ovuzb6zxRERg"
    },
    {
      "cell_type": "code",
      "execution_count": 36,
      "id": "c05a7244",
      "metadata": {
        "id": "c05a7244"
      },
      "outputs": [],
      "source": [
        "from sklearn.metrics import confusion_matrix, accuracy_score\n",
        "from sklearn.metrics import precision_score, recall_score\n",
        "from sklearn.metrics import f1_score, roc_auc_score\n",
        "\n",
        "def get_clf_eval(y_test, pred=None, pred_proba=None):\n",
        "    confusion = confusion_matrix( y_test, pred)\n",
        "    accuracy = accuracy_score(y_test , pred)\n",
        "    precision = precision_score(y_test , pred)\n",
        "    recall = recall_score(y_test , pred)\n",
        "    f1 = f1_score(y_test,pred)\n",
        "    # ROC-AUC 추가\n",
        "    roc_auc = roc_auc_score(y_test, pred_proba)\n",
        "    print('오차 행렬')\n",
        "    print(confusion)\n",
        "    # ROC-AUC print 추가\n",
        "    print('정확도: {0:.4f}, 정밀도: {1:.4f}, 재현율: {2:.4f},\\\n",
        "    F1: {3:.4f}, AUC:{4:.4f}'.format(accuracy, precision, recall, f1, roc_auc))"
      ]
    },
    {
      "cell_type": "markdown",
      "source": [
        "-  XGBoost 분류기를 초기화하고 훈련한 후에 테스트 데이터에 대한 예측을 수행하고, 분류 모델의 성능을 평가한다."
      ],
      "metadata": {
        "id": "MgraxpFcRRkc"
      },
      "id": "MgraxpFcRRkc"
    },
    {
      "cell_type": "code",
      "execution_count": 35,
      "id": "0d44ce31",
      "metadata": {
        "id": "0d44ce31",
        "colab": {
          "base_uri": "https://localhost:8080/"
        },
        "outputId": "65627c92-ba25-4a42-a44b-6be2bd14d87c"
      },
      "outputs": [
        {
          "output_type": "stream",
          "name": "stdout",
          "text": [
            "[0]\tvalidation_0-logloss:0.52464\tvalidation_1-logloss:0.55510\n",
            "[1]\tvalidation_0-logloss:0.42441\tvalidation_1-logloss:0.48641\n",
            "[2]\tvalidation_0-logloss:0.35023\tvalidation_1-logloss:0.43336\n",
            "[3]\tvalidation_0-logloss:0.29341\tvalidation_1-logloss:0.39157\n",
            "[4]\tvalidation_0-logloss:0.24995\tvalidation_1-logloss:0.35869\n",
            "[5]\tvalidation_0-logloss:0.21406\tvalidation_1-logloss:0.33711\n",
            "[6]\tvalidation_0-logloss:0.18467\tvalidation_1-logloss:0.32415\n",
            "[7]\tvalidation_0-logloss:0.16291\tvalidation_1-logloss:0.30830\n",
            "[8]\tvalidation_0-logloss:0.14352\tvalidation_1-logloss:0.29894\n",
            "[9]\tvalidation_0-logloss:0.12620\tvalidation_1-logloss:0.27850\n",
            "[10]\tvalidation_0-logloss:0.11240\tvalidation_1-logloss:0.27026\n",
            "[11]\tvalidation_0-logloss:0.10142\tvalidation_1-logloss:0.26501\n",
            "[12]\tvalidation_0-logloss:0.09186\tvalidation_1-logloss:0.26248\n",
            "[13]\tvalidation_0-logloss:0.08452\tvalidation_1-logloss:0.25936\n",
            "[14]\tvalidation_0-logloss:0.07803\tvalidation_1-logloss:0.26213\n",
            "[15]\tvalidation_0-logloss:0.07128\tvalidation_1-logloss:0.25470\n",
            "[16]\tvalidation_0-logloss:0.06650\tvalidation_1-logloss:0.25492\n",
            "[17]\tvalidation_0-logloss:0.06266\tvalidation_1-logloss:0.25634\n",
            "[18]\tvalidation_0-logloss:0.05786\tvalidation_1-logloss:0.24944\n",
            "[19]\tvalidation_0-logloss:0.05355\tvalidation_1-logloss:0.25036\n",
            "[20]\tvalidation_0-logloss:0.05002\tvalidation_1-logloss:0.24972\n",
            "[21]\tvalidation_0-logloss:0.04654\tvalidation_1-logloss:0.25250\n",
            "[22]\tvalidation_0-logloss:0.04421\tvalidation_1-logloss:0.24979\n",
            "[23]\tvalidation_0-logloss:0.04146\tvalidation_1-logloss:0.25044\n",
            "[24]\tvalidation_0-logloss:0.03963\tvalidation_1-logloss:0.24702\n",
            "[25]\tvalidation_0-logloss:0.03782\tvalidation_1-logloss:0.24628\n",
            "[26]\tvalidation_0-logloss:0.03596\tvalidation_1-logloss:0.25301\n",
            "[27]\tvalidation_0-logloss:0.03448\tvalidation_1-logloss:0.25432\n",
            "[28]\tvalidation_0-logloss:0.03318\tvalidation_1-logloss:0.25111\n",
            "[29]\tvalidation_0-logloss:0.03193\tvalidation_1-logloss:0.25502\n",
            "[30]\tvalidation_0-logloss:0.03075\tvalidation_1-logloss:0.25624\n",
            "[31]\tvalidation_0-logloss:0.03007\tvalidation_1-logloss:0.25443\n",
            "[32]\tvalidation_0-logloss:0.02914\tvalidation_1-logloss:0.24923\n",
            "[33]\tvalidation_0-logloss:0.02822\tvalidation_1-logloss:0.25104\n",
            "[34]\tvalidation_0-logloss:0.02752\tvalidation_1-logloss:0.24779\n",
            "[35]\tvalidation_0-logloss:0.02688\tvalidation_1-logloss:0.24102\n",
            "[36]\tvalidation_0-logloss:0.02617\tvalidation_1-logloss:0.24194\n",
            "[37]\tvalidation_0-logloss:0.02563\tvalidation_1-logloss:0.24254\n",
            "[38]\tvalidation_0-logloss:0.02531\tvalidation_1-logloss:0.24036\n",
            "[39]\tvalidation_0-logloss:0.02468\tvalidation_1-logloss:0.24150\n",
            "[40]\tvalidation_0-logloss:0.02412\tvalidation_1-logloss:0.24247\n",
            "[41]\tvalidation_0-logloss:0.02388\tvalidation_1-logloss:0.24228\n",
            "[42]\tvalidation_0-logloss:0.02340\tvalidation_1-logloss:0.24326\n",
            "[43]\tvalidation_0-logloss:0.02313\tvalidation_1-logloss:0.24130\n",
            "[44]\tvalidation_0-logloss:0.02291\tvalidation_1-logloss:0.24401\n",
            "[45]\tvalidation_0-logloss:0.02270\tvalidation_1-logloss:0.24228\n",
            "[46]\tvalidation_0-logloss:0.02229\tvalidation_1-logloss:0.24162\n",
            "[47]\tvalidation_0-logloss:0.02209\tvalidation_1-logloss:0.24141\n",
            "[48]\tvalidation_0-logloss:0.02191\tvalidation_1-logloss:0.24124\n",
            "[49]\tvalidation_0-logloss:0.02174\tvalidation_1-logloss:0.24402\n",
            "[50]\tvalidation_0-logloss:0.02156\tvalidation_1-logloss:0.24245\n",
            "[51]\tvalidation_0-logloss:0.02141\tvalidation_1-logloss:0.24211\n",
            "[52]\tvalidation_0-logloss:0.02124\tvalidation_1-logloss:0.24152\n",
            "[53]\tvalidation_0-logloss:0.02105\tvalidation_1-logloss:0.24418\n",
            "[54]\tvalidation_0-logloss:0.02089\tvalidation_1-logloss:0.24407\n",
            "[55]\tvalidation_0-logloss:0.02073\tvalidation_1-logloss:0.24652\n",
            "[56]\tvalidation_0-logloss:0.02059\tvalidation_1-logloss:0.24471\n",
            "[57]\tvalidation_0-logloss:0.02043\tvalidation_1-logloss:0.24323\n",
            "[58]\tvalidation_0-logloss:0.02030\tvalidation_1-logloss:0.24315\n",
            "[59]\tvalidation_0-logloss:0.02015\tvalidation_1-logloss:0.24556\n",
            "[60]\tvalidation_0-logloss:0.02001\tvalidation_1-logloss:0.24533\n",
            "[61]\tvalidation_0-logloss:0.01987\tvalidation_1-logloss:0.24395\n",
            "[62]\tvalidation_0-logloss:0.01974\tvalidation_1-logloss:0.24625\n",
            "[63]\tvalidation_0-logloss:0.01962\tvalidation_1-logloss:0.24322\n",
            "[64]\tvalidation_0-logloss:0.01951\tvalidation_1-logloss:0.24285\n",
            "[65]\tvalidation_0-logloss:0.01940\tvalidation_1-logloss:0.24498\n",
            "[66]\tvalidation_0-logloss:0.01928\tvalidation_1-logloss:0.24375\n",
            "[67]\tvalidation_0-logloss:0.01916\tvalidation_1-logloss:0.24089\n",
            "[68]\tvalidation_0-logloss:0.01905\tvalidation_1-logloss:0.24070\n",
            "[69]\tvalidation_0-logloss:0.01894\tvalidation_1-logloss:0.24280\n",
            "[70]\tvalidation_0-logloss:0.01882\tvalidation_1-logloss:0.24405\n",
            "[71]\tvalidation_0-logloss:0.01872\tvalidation_1-logloss:0.24282\n",
            "[72]\tvalidation_0-logloss:0.01861\tvalidation_1-logloss:0.24267\n",
            "[73]\tvalidation_0-logloss:0.01851\tvalidation_1-logloss:0.24004\n",
            "[74]\tvalidation_0-logloss:0.01841\tvalidation_1-logloss:0.23731\n",
            "[75]\tvalidation_0-logloss:0.01830\tvalidation_1-logloss:0.23855\n",
            "[76]\tvalidation_0-logloss:0.01819\tvalidation_1-logloss:0.23697\n",
            "[77]\tvalidation_0-logloss:0.01809\tvalidation_1-logloss:0.23686\n",
            "[78]\tvalidation_0-logloss:0.01800\tvalidation_1-logloss:0.23800\n",
            "[79]\tvalidation_0-logloss:0.01791\tvalidation_1-logloss:0.23649\n",
            "[80]\tvalidation_0-logloss:0.01782\tvalidation_1-logloss:0.23387\n",
            "[81]\tvalidation_0-logloss:0.01773\tvalidation_1-logloss:0.23455\n",
            "[82]\tvalidation_0-logloss:0.01765\tvalidation_1-logloss:0.23554\n",
            "[83]\tvalidation_0-logloss:0.01756\tvalidation_1-logloss:0.23549\n",
            "[84]\tvalidation_0-logloss:0.01749\tvalidation_1-logloss:0.23547\n",
            "[85]\tvalidation_0-logloss:0.01741\tvalidation_1-logloss:0.23306\n",
            "[86]\tvalidation_0-logloss:0.01733\tvalidation_1-logloss:0.23519\n",
            "[87]\tvalidation_0-logloss:0.01725\tvalidation_1-logloss:0.23495\n",
            "[88]\tvalidation_0-logloss:0.01715\tvalidation_1-logloss:0.23230\n",
            "[89]\tvalidation_0-logloss:0.01708\tvalidation_1-logloss:0.23254\n",
            "[90]\tvalidation_0-logloss:0.01700\tvalidation_1-logloss:0.23010\n",
            "[91]\tvalidation_0-logloss:0.01692\tvalidation_1-logloss:0.23116\n",
            "[92]\tvalidation_0-logloss:0.01685\tvalidation_1-logloss:0.23144\n",
            "[93]\tvalidation_0-logloss:0.01677\tvalidation_1-logloss:0.23041\n",
            "[94]\tvalidation_0-logloss:0.01670\tvalidation_1-logloss:0.23015\n",
            "[95]\tvalidation_0-logloss:0.01663\tvalidation_1-logloss:0.22892\n",
            "[96]\tvalidation_0-logloss:0.01657\tvalidation_1-logloss:0.22681\n",
            "[97]\tvalidation_0-logloss:0.01649\tvalidation_1-logloss:0.22781\n",
            "[98]\tvalidation_0-logloss:0.01643\tvalidation_1-logloss:0.22814\n",
            "[99]\tvalidation_0-logloss:0.01637\tvalidation_1-logloss:0.22606\n",
            "[100]\tvalidation_0-logloss:0.01629\tvalidation_1-logloss:0.22810\n",
            "[101]\tvalidation_0-logloss:0.01623\tvalidation_1-logloss:0.22804\n",
            "[102]\tvalidation_0-logloss:0.01617\tvalidation_1-logloss:0.22994\n",
            "[103]\tvalidation_0-logloss:0.01611\tvalidation_1-logloss:0.22778\n",
            "[104]\tvalidation_0-logloss:0.01605\tvalidation_1-logloss:0.22786\n",
            "[105]\tvalidation_0-logloss:0.01599\tvalidation_1-logloss:0.22698\n",
            "[106]\tvalidation_0-logloss:0.01592\tvalidation_1-logloss:0.22668\n",
            "[107]\tvalidation_0-logloss:0.01586\tvalidation_1-logloss:0.22561\n",
            "[108]\tvalidation_0-logloss:0.01580\tvalidation_1-logloss:0.22654\n",
            "[109]\tvalidation_0-logloss:0.01575\tvalidation_1-logloss:0.22627\n",
            "[110]\tvalidation_0-logloss:0.01569\tvalidation_1-logloss:0.22848\n",
            "[111]\tvalidation_0-logloss:0.01563\tvalidation_1-logloss:0.22754\n",
            "[112]\tvalidation_0-logloss:0.01557\tvalidation_1-logloss:0.22558\n",
            "[113]\tvalidation_0-logloss:0.01552\tvalidation_1-logloss:0.22652\n",
            "[114]\tvalidation_0-logloss:0.01546\tvalidation_1-logloss:0.22867\n",
            "[115]\tvalidation_0-logloss:0.01541\tvalidation_1-logloss:0.22783\n",
            "[116]\tvalidation_0-logloss:0.01536\tvalidation_1-logloss:0.22955\n",
            "[117]\tvalidation_0-logloss:0.01531\tvalidation_1-logloss:0.22930\n",
            "[118]\tvalidation_0-logloss:0.01527\tvalidation_1-logloss:0.22854\n",
            "[119]\tvalidation_0-logloss:0.01520\tvalidation_1-logloss:0.22893\n",
            "[120]\tvalidation_0-logloss:0.01515\tvalidation_1-logloss:0.22922\n",
            "[121]\tvalidation_0-logloss:0.01510\tvalidation_1-logloss:0.22730\n",
            "[122]\tvalidation_0-logloss:0.01505\tvalidation_1-logloss:0.22823\n",
            "[123]\tvalidation_0-logloss:0.01500\tvalidation_1-logloss:0.23017\n",
            "[124]\tvalidation_0-logloss:0.01496\tvalidation_1-logloss:0.22940\n",
            "[125]\tvalidation_0-logloss:0.01491\tvalidation_1-logloss:0.22915\n",
            "[126]\tvalidation_0-logloss:0.01487\tvalidation_1-logloss:0.23004\n",
            "[127]\tvalidation_0-logloss:0.01482\tvalidation_1-logloss:0.22827\n",
            "[128]\tvalidation_0-logloss:0.01478\tvalidation_1-logloss:0.22992\n",
            "[129]\tvalidation_0-logloss:0.01473\tvalidation_1-logloss:0.23035\n",
            "[130]\tvalidation_0-logloss:0.01468\tvalidation_1-logloss:0.22960\n",
            "[131]\tvalidation_0-logloss:0.01464\tvalidation_1-logloss:0.23000\n",
            "[132]\tvalidation_0-logloss:0.01459\tvalidation_1-logloss:0.22927\n",
            "[133]\tvalidation_0-logloss:0.01455\tvalidation_1-logloss:0.22901\n",
            "[134]\tvalidation_0-logloss:0.01451\tvalidation_1-logloss:0.23056\n",
            "[135]\tvalidation_0-logloss:0.01448\tvalidation_1-logloss:0.23096\n",
            "[136]\tvalidation_0-logloss:0.01443\tvalidation_1-logloss:0.23121\n",
            "[137]\tvalidation_0-logloss:0.01439\tvalidation_1-logloss:0.23052\n",
            "[138]\tvalidation_0-logloss:0.01436\tvalidation_1-logloss:0.22987\n",
            "[139]\tvalidation_0-logloss:0.01432\tvalidation_1-logloss:0.22962\n",
            "[140]\tvalidation_0-logloss:0.01428\tvalidation_1-logloss:0.23055\n",
            "[141]\tvalidation_0-logloss:0.01424\tvalidation_1-logloss:0.23079\n",
            "[142]\tvalidation_0-logloss:0.01421\tvalidation_1-logloss:0.23018\n",
            "[143]\tvalidation_0-logloss:0.01418\tvalidation_1-logloss:0.23058\n",
            "[144]\tvalidation_0-logloss:0.01414\tvalidation_1-logloss:0.23207\n",
            "[145]\tvalidation_0-logloss:0.01410\tvalidation_1-logloss:0.23184\n",
            "[146]\tvalidation_0-logloss:0.01407\tvalidation_1-logloss:0.23124\n",
            "[147]\tvalidation_0-logloss:0.01404\tvalidation_1-logloss:0.23164\n",
            "[148]\tvalidation_0-logloss:0.01401\tvalidation_1-logloss:0.23187\n",
            "[149]\tvalidation_0-logloss:0.01397\tvalidation_1-logloss:0.23166\n",
            "[150]\tvalidation_0-logloss:0.01394\tvalidation_1-logloss:0.23079\n",
            "[151]\tvalidation_0-logloss:0.01391\tvalidation_1-logloss:0.23224\n",
            "[152]\tvalidation_0-logloss:0.01387\tvalidation_1-logloss:0.23160\n",
            "[153]\tvalidation_0-logloss:0.01384\tvalidation_1-logloss:0.23242\n",
            "[154]\tvalidation_0-logloss:0.01381\tvalidation_1-logloss:0.23185\n",
            "[155]\tvalidation_0-logloss:0.01378\tvalidation_1-logloss:0.23164\n",
            "[156]\tvalidation_0-logloss:0.01375\tvalidation_1-logloss:0.23205\n",
            "[157]\tvalidation_0-logloss:0.01372\tvalidation_1-logloss:0.23146\n",
            "[158]\tvalidation_0-logloss:0.01369\tvalidation_1-logloss:0.23279\n",
            "[159]\tvalidation_0-logloss:0.01366\tvalidation_1-logloss:0.23260\n",
            "[160]\tvalidation_0-logloss:0.01364\tvalidation_1-logloss:0.23183\n",
            "[161]\tvalidation_0-logloss:0.01361\tvalidation_1-logloss:0.23225\n",
            "[162]\tvalidation_0-logloss:0.01358\tvalidation_1-logloss:0.23174\n",
            "오차 행렬\n",
            "[[33  4]\n",
            " [ 3 74]]\n",
            "정확도: 0.9386, 정밀도: 0.9487, 재현율: 0.9610,    F1: 0.9548, AUC:0.9933\n"
          ]
        }
      ],
      "source": [
        "xgb_wrapper = XGBClassifier(n_estimators=400,\n",
        "                            learning_rate=round(best['learning_rate'], 5),\n",
        "                            max_depth=int(best['max_depth']),\n",
        "                            min_child_weight=int(best['min_child_weight']),\n",
        "                            colsample_bytree=round(best['colsample_bytree'], 5)\n",
        "                           )\n",
        "\n",
        "evals = [(X_tr, y_tr), (X_val, y_val)]\n",
        "xgb_wrapper.fit(X_tr, y_tr, early_stopping_rounds=50, eval_metric='logloss',\n",
        "                eval_set=evals, verbose=True)\n",
        "\n",
        "preds = xgb_wrapper.predict(X_test)\n",
        "pred_proba = xgb_wrapper.predict_proba(X_test)[:, 1]\n",
        "\n",
        "get_clf_eval(y_test, preds, pred_proba)"
      ]
    }
  ],
  "metadata": {
    "kernelspec": {
      "display_name": "Python 3 (ipykernel)",
      "language": "python",
      "name": "python3"
    },
    "language_info": {
      "codemirror_mode": {
        "name": "ipython",
        "version": 3
      },
      "file_extension": ".py",
      "mimetype": "text/x-python",
      "name": "python",
      "nbconvert_exporter": "python",
      "pygments_lexer": "ipython3",
      "version": "3.9.7"
    },
    "colab": {
      "provenance": [],
      "include_colab_link": true
    }
  },
  "nbformat": 4,
  "nbformat_minor": 5
}